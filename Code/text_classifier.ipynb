{
 "cells": [
  {
   "cell_type": "markdown",
   "metadata": {},
   "source": [
    "# Classifying YouTube Comments using Supervised Learning\n",
    "In this notebook, we will use supervised learning techniques to classify YouTube comments. The goal is to categorize comments into different classes such as positive, negative etc. \n",
    "\n",
    "Let's get started!"
   ]
  },
  {
   "cell_type": "code",
   "execution_count": 1,
   "metadata": {},
   "outputs": [],
   "source": [
    "from _functions import *"
   ]
  },
  {
   "cell_type": "markdown",
   "metadata": {},
   "source": [
    "## Import and clean data\n",
    "Import the data as a dataframe. Cleans the data sequentially."
   ]
  },
  {
   "cell_type": "markdown",
   "metadata": {},
   "source": [
    "### Data preprocessing\n",
    "Clean the data to remove empty rows, row[0] containing the raw data to put the text into a form such that it is ready for BERT input."
   ]
  },
  {
   "cell_type": "code",
   "execution_count": null,
   "metadata": {},
   "outputs": [
    {
     "name": "stdout",
     "output_type": "stream",
     "text": [
      "(8948, 1)\n"
     ]
    }
   ],
   "source": [
    "# Import the data as dataframe\n",
    "comments_df = pd.DataFrame(columns=[\"comment\"])\n",
    "\n",
    "\n",
    "current_dir = Path.cwd().parent\n",
    "\n",
    "data_path = current_dir / \"Data\" / \"RawData\" \n",
    "\n",
    "for file_name in os.listdir(data_path):\n",
    "\n",
    "    # Declare the file path\n",
    "    file_path = data_path / file_name\n",
    "\n",
    "    # Import the data\n",
    "    df = pd.read_csv(file_path)\n",
    "    clean_comments = clean_data(df).to_frame()\n",
    "    comments_df = pd.concat([comments_df, clean_comments])\n",
    "\n",
    "print(comments_df.shape)"
   ]
  },
  {
   "cell_type": "markdown",
   "metadata": {},
   "source": [
    "### Clean the text"
   ]
  },
  {
   "cell_type": "code",
   "execution_count": 7,
   "metadata": {},
   "outputs": [
    {
     "data": {
      "application/vnd.microsoft.datawrangler.viewer.v0+json": {
       "columns": [
        {
         "name": "index",
         "rawType": "int64",
         "type": "integer"
        },
        {
         "name": "comment",
         "rawType": "object",
         "type": "string"
        },
        {
         "name": "cleaned_comment",
         "rawType": "object",
         "type": "string"
        },
        {
         "name": "country",
         "rawType": "object",
         "type": "unknown"
        }
       ],
       "conversionMethod": "pd.DataFrame",
       "ref": "62b6e565-e197-4937-8cb9-b73122f5cea7",
       "rows": [
        [
         "7",
         "It does not \"risk\" raising prices, it will ABSOLUTELY raise prices.",
         "it does not risk raising prices it will absolutely raise prices",
         "['none']"
        ],
        [
         "8",
         "Canada 🇨🇦  Your Oil , Timber and Critical Minerals are Greatly needed in Europe.  Its Time to Commit yourself with European Countries as your New Trading Partners.",
         "canada   your oil  timber and critical minerals are greatly needed in europe  its time to commit yourself with european countries as your new trading partners",
         "['canada']"
        ],
        [
         "9",
         "Stupid people gave a stupid man a stupid amount of power.  What could go wrong.",
         "stupid people gave a stupid man a stupid amount of power  what could go wrong",
         "['none']"
        ],
        [
         "10",
         "So punish your enemies, and then punish your friends 2.5 times harder....makes sense.",
         "so punish your enemies and then punish your friends  times hardermakes sense",
         "['none']"
        ],
        [
         "11",
         "I am Canadian and i personally think  we should stop all trading  with USA and trade with EU instead and get the USA off of our power grid since they are soooo great than do it on your own.",
         "i am canadian and i personally think  we should stop all trading  with usa and trade with eu instead and get the usa off of our power grid since they are soooo great than do it on your own",
         "['none']"
        ]
       ],
       "shape": {
        "columns": 3,
        "rows": 5
       }
      },
      "text/html": [
       "<div>\n",
       "<style scoped>\n",
       "    .dataframe tbody tr th:only-of-type {\n",
       "        vertical-align: middle;\n",
       "    }\n",
       "\n",
       "    .dataframe tbody tr th {\n",
       "        vertical-align: top;\n",
       "    }\n",
       "\n",
       "    .dataframe thead th {\n",
       "        text-align: right;\n",
       "    }\n",
       "</style>\n",
       "<table border=\"1\" class=\"dataframe\">\n",
       "  <thead>\n",
       "    <tr style=\"text-align: right;\">\n",
       "      <th></th>\n",
       "      <th>comment</th>\n",
       "      <th>cleaned_comment</th>\n",
       "      <th>country</th>\n",
       "    </tr>\n",
       "  </thead>\n",
       "  <tbody>\n",
       "    <tr>\n",
       "      <th>7</th>\n",
       "      <td>It does not \"risk\" raising prices, it will ABS...</td>\n",
       "      <td>it does not risk raising prices it will absolu...</td>\n",
       "      <td>[none]</td>\n",
       "    </tr>\n",
       "    <tr>\n",
       "      <th>8</th>\n",
       "      <td>Canada 🇨🇦  Your Oil , Timber and Critical Mine...</td>\n",
       "      <td>canada   your oil  timber and critical mineral...</td>\n",
       "      <td>[canada]</td>\n",
       "    </tr>\n",
       "    <tr>\n",
       "      <th>9</th>\n",
       "      <td>Stupid people gave a stupid man a stupid amoun...</td>\n",
       "      <td>stupid people gave a stupid man a stupid amoun...</td>\n",
       "      <td>[none]</td>\n",
       "    </tr>\n",
       "    <tr>\n",
       "      <th>10</th>\n",
       "      <td>So punish your enemies, and then punish your f...</td>\n",
       "      <td>so punish your enemies and then punish your fr...</td>\n",
       "      <td>[none]</td>\n",
       "    </tr>\n",
       "    <tr>\n",
       "      <th>11</th>\n",
       "      <td>I am Canadian and i personally think  we shoul...</td>\n",
       "      <td>i am canadian and i personally think  we shoul...</td>\n",
       "      <td>[none]</td>\n",
       "    </tr>\n",
       "  </tbody>\n",
       "</table>\n",
       "</div>"
      ],
      "text/plain": [
       "                                              comment  \\\n",
       "7   It does not \"risk\" raising prices, it will ABS...   \n",
       "8   Canada 🇨🇦  Your Oil , Timber and Critical Mine...   \n",
       "9   Stupid people gave a stupid man a stupid amoun...   \n",
       "10  So punish your enemies, and then punish your f...   \n",
       "11  I am Canadian and i personally think  we shoul...   \n",
       "\n",
       "                                      cleaned_comment   country  \n",
       "7   it does not risk raising prices it will absolu...    [none]  \n",
       "8   canada   your oil  timber and critical mineral...  [canada]  \n",
       "9   stupid people gave a stupid man a stupid amoun...    [none]  \n",
       "10  so punish your enemies and then punish your fr...    [none]  \n",
       "11  i am canadian and i personally think  we shoul...    [none]  "
      ]
     },
     "execution_count": 7,
     "metadata": {},
     "output_type": "execute_result"
    }
   ],
   "source": [
    "# NOTE : For importing the spacy embeddings model spacy package, run the \n",
    "#        following line in Anaconda prompt: \n",
    "#           conda install conda-forge::spacy-model-en_core_web_sm\n",
    "\n",
    "# NOTE : We may need to go back and better handle emojis at some point. \n",
    "\n",
    "comments_df['cleaned_comment'] = comments_df['comment'].apply(preprocess_text)\n",
    "comments_df['country'] = comments_df['cleaned_comment'].apply(extract_country)\n",
    "comments_df['country'] = comments_df['country'].apply(lambda x: ['none'] if not x else x)\n",
    "\n",
    "comments_df.head()"
   ]
  },
  {
   "cell_type": "markdown",
   "metadata": {},
   "source": [
    "## Use VADER HERE\n",
    "Vader is to be used for sentiment analysis at this point. "
   ]
  },
  {
   "cell_type": "code",
   "execution_count": null,
   "metadata": {},
   "outputs": [],
   "source": []
  }
 ],
 "metadata": {
  "kernelspec": {
   "display_name": "capstone",
   "language": "python",
   "name": "python3"
  },
  "language_info": {
   "codemirror_mode": {
    "name": "ipython",
    "version": 3
   },
   "file_extension": ".py",
   "mimetype": "text/x-python",
   "name": "python",
   "nbconvert_exporter": "python",
   "pygments_lexer": "ipython3",
   "version": "3.12.3"
  }
 },
 "nbformat": 4,
 "nbformat_minor": 2
}
