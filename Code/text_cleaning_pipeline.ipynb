{
 "cells": [
  {
   "cell_type": "markdown",
   "metadata": {},
   "source": [
    "# Text Cleaning Pipeline\n",
    "The goal of this file is to import the comments and news sources, join the data, and find the sentiment scores of both the source and the cleaned text before performing analysis."
   ]
  },
  {
   "cell_type": "code",
   "execution_count": 1,
   "metadata": {},
   "outputs": [
    {
     "name": "stderr",
     "output_type": "stream",
     "text": [
      "[nltk_data] Downloading package vader_lexicon to\n",
      "[nltk_data]     C:\\Users\\Trevo\\AppData\\Roaming\\nltk_data...\n",
      "[nltk_data]   Package vader_lexicon is already up-to-date!\n",
      "[nltk_data] Downloading package vader_lexicon to\n",
      "[nltk_data]     C:\\Users\\Trevo\\AppData\\Roaming\\nltk_data...\n",
      "[nltk_data]   Package vader_lexicon is already up-to-date!\n"
     ]
    }
   ],
   "source": [
    "from _functions import *"
   ]
  },
  {
   "cell_type": "markdown",
   "metadata": {},
   "source": [
    "## Create Model Input\n",
    "Complete this process through concatenating the comments and the video transcripts"
   ]
  },
  {
   "cell_type": "code",
   "execution_count": 2,
   "metadata": {},
   "outputs": [],
   "source": [
    "parent_directory = Path().resolve().parent\n",
    "data_directory = parent_directory / \"Data\"\n",
    "comments_directory = data_directory / \"video_comments\"\n",
    "transcripts_directory = data_directory / \"video_transcripts\""
   ]
  },
  {
   "cell_type": "code",
   "execution_count": 3,
   "metadata": {},
   "outputs": [],
   "source": [
    "DUDNUM = 999999999\n",
    "\n",
    "reliability_scores = {\"nbc_news\": 42.78, \"wsj\": 48.87, \"bbc_news\": 44.73, \"bloomberg\" : 42.11,\n",
    "                      \"cnn\" : 42.13, \"sixty_minutes\" : 34.19, \"sky_news\" : 42.24,\n",
    "                       \"wusa\": 46.67, \"dw_news\" : DUDNUM, \"forbes\" : 41.06,\n",
    "                        \"fox_news\" : 24.83, \"podcast_cvt\" : DUDNUM, \"econ_explained\": DUDNUM}\n",
    "\n",
    "bias_scores = {\"nbc_news\": -5.61, \"wsj\": -0.27, \"bbc_news\" : -1.33, \"bloomberg\": -3.16, \"cnn\" : -6.18,\n",
    "               \"sixty_minutes\" : -9.55, \"sky_news\" : -0.88, \"wusa\": -1.50, \"dw_news\" : DUDNUM,\n",
    "               \"forbes\": -3.87, \"fox_news\": 18.50, \"podcast_cvt\" : DUDNUM, \"econ_explained\": DUDNUM}\n",
    "\n",
    "bias_ratings = {\"nbc_news\": \"Lean Left\", \"wsj\": \"Center\", \"bbc_news\" : \"Center\", \"bloomberg\": \"Lean Left\", \"cnn\" : \"Lean Left\",\n",
    "               \"sixty_minutes\" : \"Lean Left\", \"sky_news\" : \"Lean Left\", \"wusa\": -1.50, \"dw_news\" : DUDNUM,\n",
    "               \"forbes\": \"Center\", \"fox_news\": \"Right\", \"podcast_cvt\" : DUDNUM, \"econ_explained\": DUDNUM}"
   ]
  },
  {
   "cell_type": "code",
   "execution_count": 4,
   "metadata": {},
   "outputs": [
    {
     "name": "stderr",
     "output_type": "stream",
     "text": [
      "C:\\Users\\Trevo\\AppData\\Local\\Temp\\ipykernel_11052\\926226003.py:56: FutureWarning: The behavior of DataFrame concatenation with empty or all-NA entries is deprecated. In a future version, this will no longer exclude empty or all-NA columns when determining the result dtypes. To retain the old behavior, exclude the relevant entries before the concat operation.\n",
      "  comments_df = pd.concat([comments_df, input_df])\n"
     ]
    },
    {
     "data": {
      "application/vnd.microsoft.datawrangler.viewer.v0+json": {
       "columns": [
        {
         "name": "index",
         "rawType": "int64",
         "type": "integer"
        },
        {
         "name": "index",
         "rawType": "object",
         "type": "string"
        },
        {
         "name": "source",
         "rawType": "object",
         "type": "string"
        },
        {
         "name": "transcript",
         "rawType": "object",
         "type": "string"
        }
       ],
       "conversionMethod": "pd.DataFrame",
       "ref": "dde2a634-5940-4207-a125-f856deaced79",
       "rows": [
        [
         "0",
         "1",
         "bbc_news",
         "We begin with the breaking news. A fresh trade war between the US and China has just kicked off. An hour and a half ago, the US went ahead with its promise of 10% tariffs on all Chinese goods headed to the us. China quickly responded and announced its to do the same in a tit for tat spat that could impact the global economy. China's finance ministry is saying the measures against US goods would take effect. Next Monday, an extra 10% tax will be added to goods including crude oil and agricultural machinery, imports of coal. And Nick liquified natural gas will be hit with 15% tariffs. It's also saying it's filing a complaint with the World Trade Organization over the action from the US. In Asia. Stock markets were riding high earlier today with Hong Kong's hang saying, opening up over 3% higher. The Nick, a 2 25 in Tokyo was up more than one and a half percent.\nBut since the announcements of new tariffs in the US and China, the markets are now muted on Wall Street. Heavy losses were clawed back on Monday. As the news broke that 25% tariffs on Mexico are to be delayed for a month hours later. A similar deal was announced with Canada. After President Trump spoke to Canada's prime minister, Justin Trudeau and Canada agreed to ensure further security at its border on North America. Business correspondent Michelle Flury is in the town of Windsor, Ontario in Canada. It's right by the US border where she's been getting reaction to all these latest developments\n\nIn response to the threat of tariffs. Some Canadian liquor stores had pulled us browns from their shelves. Tonight they are being restocked. The trade war averted for now, but for some the break may be permanent.\n\nFor me, a lines been crossed.\n\nMonica more canceled subscriptions to Amazon and Netflix. Two American companies, because of Trump's trade threats, she isn't planning to sign back up.\n\nIt's like the whims of someone who changes from day to day. It's not acceptable. And for me, I think it's broken something. I can't trust the US to be the ally anymore.\n\nAt Laval, they make parts used in other goods. They were bracing for the worst. Around 80% of Candida's exports end up in America. Even with the delay, Laval, president Jonathan, as a party said, questions remain.\n\nThe uncertainty is as bad of the tariffs. This company has been in business for over 50 years. That 50 years of success came from both sides working together, creating relationships that took a very long time to create. And now knowing that that relationship was as fragile as it is and that one person's agenda can change that whole relationship and change the course of a business that's been around for half a century hurts a lot\n\nHere in Windsor, Ontario. You can see the American city of Detroit just across the river tonight, the feeling of betrayal by a neighbor replaced by a sense of relief. But for how long? Michelle Flurry, BBC News, Windsor, Ontario.\n\nWell, Canada's prime minister Justin Trudeau tweeted he had a good call with President Trump and will be implementing a $1.3 billion plan reinforcing the border with new choppers technology and personnel enhanced coordination with our American partners and increased resources to stop the flow of fentanyl. Nearly 10,000 frontline personnel are and will be working on protecting the border. Trudeau also said Canada would appoint a fentanyl czar list cartels as terrorists and launch a Canada US joint strike force to combat organized crime, fentanyl and money laundering. Show Lander is senior lecturer of economics at Concordia University. I asked him if Justin Trudeau has done enough to keep the threat of tariffs at bay.\n\nProbably when Trump was elected, he had texted out that the tariffs were coming unless Canada controlled fentanyl and immigrants crossing the northern border into the us. I'm not entirely sure how big a problem those two things are or whether they're more imagined in Trump's mind. But given that there's now going to be much more enhanced border security to try and stop whatever fentanyl and immigrants are crossing, that was the precondition to make the tariffs go away. So we don't know in 30 days whether he's going to ask for something else or that's going to be the opening part of the negotiation, but allegedly what Trudeau offered today was what he wanted.\n\nIn the meantime, mocho, what are you hearing about how people are positioning themselves in the light of this potential conflict?\n\nConsumers are upset. They've started boycotts. I'm not sure how long the boycots are going to last or how much they realize does in fact come from the us but consumers don't like the thought and Canadians have a reputation for being kind hearted and generous people. But we can also be extremely proud and defensive when our country is under threat. Businesses, of course, are very concerned too. A lot of our natural resource-based industry is powering the US literally and figuratively. And so there have been threats that will turn out the lights in the US if they want to tariff us. I don't think that that's exactly the best strategy, but that just shows the degree to which Canadians are upset. That one man, as you played in an earlier clip, has the capacity to really wreck the Canadian economy.\n\nSo that's the situation in Canada. But what about China where 10% tariffs have just been applied to Chinese exports to the US and China has just announced its following suit with a raft of terrorists be applied to American goods. Dr. Harry Broadman is a trade expert with Rand Corporation and told me this is just the beginning.\n\nYes, it's just the latest chapter in our relationship with China. I think really epitomized by how Trump sees China as a mono bargaining situation. Just like, and frankly he did with Canada and Mexico and China's very smart. They've picked US exports that are very sensitive to US firms, and you can be sure that those firms are giving an earful to Mr. Trump right now.\n\nYeah, it'd be interesting to see how this plays out. President Trump is saying he's going to speak to President Xi later this week. He had phone calls with Claudia Shine Baum yesterday and just in Trudeau of Canada. That seemed to lead to a good result. Could we see the same for China?\n\nSure. And I believe that Xi is expecting that because now the cat is out of the bag, that this is how Trump wants to use tariffs as a beginning perhaps of a discussion. It's quite extraordinary if you're in a real serious trade war, you're not expecting to then get on the phone with the head of state just after you've imposed something. So I think this is quite orchestrated by the way that Trump sees the world and what he wants to use as a bargaining chip. And what's also extraordinary is some of the items that are coming up in the trade war are not necessarily economic merchandise items, but other things like the border. And so it's as if that Trump sees tariffs as his only tool in the toolkit to try to change our policy with respect to other countries\n\nWith Canada and Mexico. Some might argue it was quite simple to promise to President Trump what he wanted. IE much more security at the border, many more measures to prevent fentanyl crossing across, et cetera, et cetera. With China, it's not so simple, is it?\n\nAbsolutely not. I mean, our supply chains, as everyone knows with China, are quite sophisticated and quite complex in terms of both up and down the supply chain. So I think this is not just a question of fixing a border or dealing with a drug problem. Not that those are insignificant, but you have a network of factories and supply chain ships, trucks, consumers, workers, everybody is affected when you have the two largest economies of the world beginning a trade war. Now, whether this trade war actually turns out to be a trade war and she and Trump speak on the phone, which was already planned, who knows. Maybe in the next day or two she will say something that will satisfy Trump. I don't think so, but I think that's the, that is going on in the background here, and it really undercuts, I think, Trump's strategy to try to be a strong man relative to other countries around the world using tariffs.\n\nDr. Harry Broadman there who was a former US assistant trade representative and chief of staff in the US President's Council of Economic Advisors. So interesting to get his take on things. Let's now get an expert view on the market reaction. So it's proving to be another roller coaster ride for traders today. As I mentioned earlier in Asia, shares in Hong Kong were rallying. They opened up over 3%. That was also the case in Japan and other markets in Asia. But now investors are wary again with the trade spat between the US and China gathering speed. Russ Ma is investment director at AJ Bell and shared with me his view.\n\nInteresting to see that those rallies we saw in Asia this morning didn't get back all of the ground they lost yesterday because there's still the 30 day option for Trump to bring Tarris back on Canada and Mexico. There were the new tariffs on China, which have now come in, and there were the old ones which are still there, and there's still a source of conflict between the two. And now we have the additional complication of China raising the stakes. Now we'll see what comes out of those talks. Reluctantly, looking at President Trump's ex feeded, he seems to be linking a trade deal with China to what happens with TikTok in particular?\n\nWell, I was just going to say actually, it's really interesting. In Hong Kong, the big winners today are all the tech stocks. There's conversations about the future of TikTok is likely to be revealed soon that negotiations are ongoing. It's, as I said to Harry Broadman, it's such a complicated relationship, isn't it, between the us, China on so many levels.\n\nYeah. The customs duties that America generates overall in our modern double where they were eight years ago when President Trump introduced his first tariffs on Chinese goods such as washing machines, steel and aluminum, and the Biden administration didn't remove those and it actually added to them. So the tensions have been going on now for eight years and they haven't come down. Technology, national security, intellectual property are all very, very hot issues between the two nations. And whether one phone call can resolve them or not is difficult to tell, but it seems unlikely.\n\nIt will be interesting to see what happens after the conversation between President Trump and President Xi, which we're told will happen sometime this week. But from China's perspective, its economy is in a tough spot, has been really since the pandemic, the growth is not kicking in. There's all sorts of issues impacting the Chinese economy. This couldn't come at a worse time, could it?\n\nNo. You could argue from President Trump's perspective his arguments. Therefore, the ideal times are habit in that China's economi, as you say, is struggling. It's coming out of a real estate bust. Its infrastructure and domestic spending model is struggling to take up the load and its other economic engine has been exports to the world which America is now trying to hem in. So from a US perspective, it's a good time to apply pressure from a Chinese perspective. As you say, it's a very, very difficult one for them as they try and get domestic consumption going.\n\nRusal there from AJ Bell. Well, let's stay with the China US relationship. China says it is to probe the US tech giant Google over violations of anti-monopoly laws. Beijing State administration for market regulation is saying the US tech giant was, and this is a quote suspected of violating the anti-monopoly law of the people's Republic of China. Let's go to our Asia business hub, Marico. OI is there with the details. What can you tell us, Marico?\n\nWell, Sally, as you said, the announcement came just as Beijing announced those retaliatory tariffs. Shortly after that deadline passed for US, tariffs on China passed. Of course, Google search services though in China have been blocked since 2010. So many started asking what is actually the target? What kind of business activities are still taking place in China? By Google for example, its Android operating system, reportedly has more than half the smartphone market used by companies like Xmi and Vivo and opo still. So still quite a big business for Google. Also, Google still provides apps and games to the Chinese market through partnership with local developers. So those are the business activities that are targeted by this investigation. But many analysts, as you've just been talking to your guests about it, have been saying that these announcements appear rather symbolic because even some of the products that China imports from the United States that have been hit by these territory tariffs, for example, crude oil China doesn't import much of it from the United States. So all these announcements, while of course are very big and sending a clear signal to Washington about Beijing's Beijing's expression of or response to those tariffs. It does seem rather symbolic and it seems like quite a similar story when it comes to this Google's case as well.\n\nOkay, Marico for now, thank you. Around the world and across the uk. This is BBC News."
        ],
        [
         "1",
         "2",
         "bbc_news",
         "There are growing fears of a major global trade war tonight. After President Trump announced sweeping tariffs on imports from Canada, Mexico, and China starting tomorrow, and he added that very substantial tariffs would follow for the European Union. Goods exported from Canada and Mexico to the US will be hit with a 25% tariff products from China with 10% Canada's prime Minister. Justin Trudeau said his country would face difficult times as a result, but promised a forceful retaliation from Washington. Here's our North America editor, Sarah Smith.\n\nHe had promised to introduce tough tariffs on day one. President Trump's obviously a couple of weeks late, but clearly excited about one of his favorite policy tools.\n\nI always say tariffs is the most beautiful word to me in the dictionary because tariffs are going to make us rich as hell. It's going to bring our country's businesses back that left us.\n\nPresident Trump wants both Mexico and Canada to do more, to stop migrants crossing their borders and into America and to stem the flow of illegal drugs, including fentanyl that's flooding into the us.\n\nThe president will be implementing tomorrow a 25% tariffs on Mexico, 25% tariffs on Canada, and a 10% tariff on China for the illegal fentanyl that they have sourced and allowed to distribute into our country.\n\nHundreds of billions of dollars worth of imports are trucked from Mexico and Canada into America and the other way around. They are each other's biggest trading partners by far. For instance, 90% of the avocados sold in America come from Mexico, charging a 25% tax on each fruit that crosses the border will hurt Mexican exporters, but it also risks increasing prices for American consumers. Canada's biggest export to America is oil, even 10% import tariffs, risk raising costs for Americans, and of course Canada will also feel the pain if America buys less of their oil. The Prime Minister says\n\nHe's ready to respond. If the president does choose to implement any tariffs against Canada, we're ready with a response. A purposeful, forceful, but reasonable immediate response.\n\n10% tariffs will be charged on all the electronic and other goods that are shipped to America from China. Donald Trump says he wants China to stop Fentanyl being exported to America, but of course it doesn't hurt to also punish one of your biggest global competitors, other executive powers. Donald Trump firmly believes he's the world's best negotiator and appears confident that punishing terrorists will force other nations to do what he wants. But if that doesn't happen quickly, he's risking a trade war that could result in American voters paying the price.\n\nAnd let's talk to Sarah in Washington tonight. The president's only really been talking about in the last few minutes. Sarah, tell us more.\n\nYeah, he was in the Oval Office signing the executive order that will bring in these tariffs on Canada, Mexico, and China. And he was asked if he had any plans to put tariffs on goods coming in from the eu and he said, absolutely. He thinks the EU treats American products very unfairly. He said, and he referenced VAT value added tax being levied at 20%, which he seems to think is akin to some kind of trade tariff that he wants to counter. So he didn't say when, and he didn't say what level of tariffs, but he did say he wants to do it. Have a listen to this.\n\nAnd we have a tremendous deficit with the European Union, so we'll be doing something very substantial with the European Union. We're going to bring the level up to where it should be.\n\nNow, the level of terrace, he's talking about 25% against Mexico and Canada, 10% on China. These are huge. This is not the normal level at which countries tend to operate when they're doing these trade negotiations. And of course, it's actually about Donald Trump trying to enforce an entirely different policy on the border with these countries asking for their cooperation. So this is something pretty new, and it could be risky. I mean, he said whilst he was in the Oval Office there, that there is a chance that the costs will be passed on to consumers. And he knows that if anything he did was to increase prices in America, put inflation up, that would be very, very dangerous for his popularity. So I wonder if he's trying to make a case that this will be done very quickly. If he gets what he wants from Canada, Mexico, and China, then these tariffs won't have to be in place for very long and he won't risk putting the costs up for American consumers.\n\nSarah, thank you Sarah Smith. Well, many Chinese businesses were certain that tariffs like this were on their way and have been taking preemptive action. As Laura bicker reports, many have moved their production lines offshore to places including Cambodia.\n\nThis all American cowboy boot once crafted to conquer the Wild West has been made here in China for decades. But production has slowed as orders dwindle us buyers don't want to risk more of Donald Trump's tariffs on Chinese made goods. Mr. Pong says a hundred different skills are needed to make each shoe. That's why he doesn't want to move the workshop out of China.\n\nIn the end, it is the workers at the bottom who suffer with higher tariffs. We have higher costs. With higher costs. We have fewer orders. The workers' income will decrease.\n\nThese are the victims at the center of Mr. Trump's trade war, a skilled workforce that know no other job. Other Chinese companies, however, are on the move. Parts of Cambodia have given itself to Beijing. Half the country's investment now flows from China. These clothes are heading to US firms like Walmart and Costco. The factory and its workers are in Cambodia, but most of the materials still come from China. Ang Gong shows off his newly built factory in pin pen as he gets ready for larger orders,\n\nFactories along the whole supply chain are relocating. As a result, lots of Chinese companies are investing in Cambodia and Southeast Asia.\n\nThis factory is hiring hundreds more workers as profits Soar. Successes like this one increased China's footprint across Southeast Asia.\n\nChinese firms have been coming here for over a decade, but that is now accelerating. Around 90% of all garment factories in this country are now Chinese run or Chinese owned.\n\nPresident Trump's tariff have not stopped. China's rise. Beijing has simply gone elsewhere to do business. US bound creates now ship from Cambodia as China navigates its way through this trade war. It may be losing some money in this battle, but it is gaining power and influence. Loda bicker, BBC News on Pen."
        ],
        [
         "2",
         "3",
         "bbc_news",
         "I'm Helena Humphrey. Good to have you with us. We begin with breaking news out of the White House where US President Donald Trump has signed tariffs on imports from Canada, Mexico, and China, America's top trading partners. Now, a 25% tariff is imposed on Canadian goods with a 10% levy placed on Canadian oil exports. Mexico has been slapped with a similar 25% tax, and President Trump has also placed a 10% tariff on all Chinese goods coming into the United States, where the White House says that the tariffs are meant to quote, hold China, Mexico, and Canada accountable for the flow of undocumented immigrants and fentanyl into the United States. The tariffs are set to come into effect on Tuesday. That's according to the administration. Well, Canadian officials are decrying. The Trump administration's move in statements online. On Terrier's premier Doug Ford said that the tariffs will quote hurt America writing that Canada now has no choice but to hit back and hit back hard.\nMeanwhile, China's ministry of commerce repeated its earlier message of caution that there would be no winner in a trade war. And Mexican president Claudia Scheinbaum, has yet to issue an updated statement, but she has previously said that she would approach tariffs with a cool head for joining me live. Now, to talk about all of this is Arturo Han, who formerly served as Ambassador of Mexico to the United States from 2007 to 2013. Welcome to you ambassador. Thank you for being with US, Mexico, of course, one of the United States closest trading partners. So what impact do you think 25% tariffs would have on that relationship?\n\nWell, Helen, it's actually the first trading partner now of the United States for almost two years in a row. This is in soccer terms, it's a known goal, but if you want it in American parlance, it's a self-inflicted wound because these countries, Canada, Mexican, United States, these supply chains that have become so integrated vertebra will have a profound impact on inflation on the wellbeing of US households. There's an estimate that these tariffs, if they remain in place for over a month or so, we'll start costing each US household $830 in extra taxes.\n\nSo do you think there is a way back from this? We know that the Mexican president, Claudia Shine Baum has said that she's essentially got a plan up her sleeve, but she will act with a cool head. So what do you think could come next from Mexico?\n\nWell, I think it's hard for either Canada or Mexico not to respond in kind with some form of countervailing duties. I think that a generalized countervailing due to your tariff from Mexico would not be a good idea again, because what you want to prevent is by disrupting your own supply chains, elevating inflation costs, cost of living for Mexicans. But I think some form of counter duties will be levied on the us. The big question mark here obviously is whether this is a negotiating tactic. There are some included yours truly, that believe that some of this is to force an early renegotiation of the U-S-M-C-A, which is up for a review in 2026, Canada, Mexico, United States governments need to sit down in July of 2026 to review how U-S-M-C-A has been working. And the sense some of us have is that this may be beyond the linkage to fentanyl immigration, the bluster and the threat, and be able to prove to his constituents that he has kept his promise. There may be an attempt to force an early renegotiation of U-S-M-C-A.\n\nSo how effective or not do you think that could be as somebody with your diplomatic hat on when it comes to immigration, but also beyond that as you've just outlined with that trade pact?\n\nWell, the problem is that if you look at the numbers in terms of immigration flows on the US Mexico border, they've been the lowest even since when Donald Trump was in the White House in the first time around, Mexico has been accepting the outsourcing of enforcement driven policies by the US first with Trump, then with Biden, numbers are at the lowest since the pandemic, and so there's a bit of a disconnect between the rationale for using tariffs to put pressure on Mexico on this specific issue, the fentanyl and organized crime issue. That's a completely different can of worms. I think this is in part Mexico's fault because the previous Mexican government of Andre Manor completely gutted and eviscerated collaboration with United States and the fight against organized crime and this legacy in terms of what Mexico has been doing, the fentanyl trafficking that we're seeing coming either in precursors or fentanyl pills.\nThis is an important issue. But where I think the President Trump has made a big mistake is on two fronts. Number one, this linkage creating pressure points by putting pressure, using different issues of the bilateral agenda, putting pressure on trade to get something to change and immigration or drug policy in a very, very complex, deep relationship. This is a bad move because it makes things much more difficult to manage diplomatically. The second part is that Washington the US is immersed in what I think is the most important recalibration of its foreign policy since the end of the Cold War, which is its relationship with China.\n\nAnd\n\nIf that recalibration is going to be successful, particularly when it comes to the economy to trade flows, it needs Canada and Mexico. And so by slapping these tariffs, Beijing must be rubbing its hands right now.\n\nAmbassador, briefly, if you don't mind, is there any way back from the brink through either side here?\n\nWell, there might be, I think that there's a bit of a sense that there will be negotiations and conversations in the coming days. Maybe at some point President Trump can claim that he has achieved his objectives, that Mexico is doing X and Y, that Canada is doing X and Y, and that he is suspending or putting those tariffs on hold. That is a possibility indeed,\n\nKhan, who formerly served as Ambassador of Mexico to the United States from 2007 to 2013. Very good to get your perspective. Thanks a lot.\n\nA pleasure, Helen."
        ],
        [
         "3",
         "1",
         "bloomberg",
         "Congratulations, Mr.\n\nWell, he's back and guess what he's talking about? We will tariff and tax foreign countries to enrich our citizens. This is a surprise to no one\n\nBecause\n\nIt's one of his favorite subjects. I do like tariffs, tariff, tariffs, tariffs, tremendous tariffs, tariff, tariffs, tariffs that are massive. To me, the most beautiful word in the dictionary is tariff.\n\nTrump has ordered federal agencies to investigate the impact of tariff policies, or in his words, recommend appropriate measures like global tariffs to fix these deficits. The topic was low on boardroom agendas under former President Biden, but since Trump's election in November, talk of tariffs has spiked,\n\nThe new president has promised to put tariffs on goods coming to the US from all around the world, not just from trading rivals such as China.\n\nHe's seeing tariffs as a leverage point to get other people to do what he wants.\n\nIn his first week back, Trump threatened to enact 10% tariffs on China, 25% tariffs on Mexico and Canada, and to use them as a tool to try to stop the Russia, Ukraine war\n\nTrade policy under President Trump has the potential to send shock waves through the global economy\n\nEven if Trump's threats don't materialize. The mere thought of a trade war is already appending international relations and forcing companies to prepare for the worst.\n\nI feel like a pawn in a big game of chess.\n\nLet's start with what we know. Tariffs are government imposed taxes on imported goods and services, which increase the cost of imports, and that's the whole point to make them less competitive compared to domestic products In a bid to help or protect local industries, their use in the United States declined dramatically after World War ii.\n\nMore and more, the cargo ships of the great trading nations are making New Orleans a regular port of coal.\n\nAnd in the globalized nineties, they became a dirty word.\n\nNo country can escape the global economy and the greatest, largest, most powerful country in the\n\nWorld cannot escape the global economy. Broadly speaking, everyone agreed that the freer flowing of goods and services lended to prosperity for all. But that kind of economic thinking has been turned on its head when it became clear that there are not just winners, but they're also losers from globalization. President Trump wants tariffs to raise revenue for the government. He wants tariffs to bring manufacturing back to the us and of course, he wants tariffs to level the books with key trading rivals around the world,\n\nWhile Trump frames his tariffs as a way of raising trillions of dollars to pay for tax cuts. It's worth taking a look at the numbers. The blue line is what the government has estimated to collect from existing tariffs over the next four years, only a drop in the bucket compared to the black line, which shows revenue from income tax. Of course, we shouldn't forget that we have been here before.\n\nPresident Trump's first term when he implemented tariffs. It sent shockwaves around the world because was breaking with convention front page of every newspaper in the country. Right now, a dive on the Dow. Because of this trade war\n\nIn Trump's first trade war, the scope of the tariffs was targeted toward capital goods and intermediate goods from China, and it was not a very large increase in tariff rates. So overall, it took average tariff rates from 1.5% to about 4.5% on overall US imports. During that second half of 2019, the trade policy uncertainty was clearly having an impact on dampening business investment. So it deescalated in late 2019 when the US and China signed the phase one agreement. In\n\nThe phase one deal. China promised to buy at least $200 billion more in US goods and services, but that didn't happen. Now Trump wants to change that and cut a new deal with the Chinese government.\n\nUntil I came along, China never paid 10 cents to this country. They ripped us off and they never paid anything\n\nEven before Trump's inauguration day memo calling for a fresh look at US, China trade relations companies in China have been bracing themselves for a second trade war by chasing new markets and offshoring production to neighboring countries. The memo also singled out Canada and Mexico using tariffs as leverage to achieve domestic policy goals.\n\nWe're thinking in terms of 25% on Mexico and Canada because they're allowing vast numbers of people to come in and fentanyl.\n\nWhatever the motivation, it's American companies that could suffer the most.\n\nUS auto industry has a very long supply chain that is very complicated, that takes many parts for many countries. A lot of this supply chain and auto parts came from Canada and Mexico. So imposing tariffs on Canada and Mexico basically effectively would be imposing tariffs on GM and forts production.\n\nIf he goes ahead with the kind of threats that he's talking about, then you would see question marks over how will that impact inflation? How will that impact where business puts their investment? How will it impact the flow of goods around the world?\n\nMany US businesses are trying to war game what's coming next.\n\nDuring the first Trump presidency when tariffs were enacted, it was the biggest strain our company has ever seen. A hundred percent of our products are manufactured in China. It took us 24 to 36 months to adjust the supply chain. I would estimate the spend to be around $30 million. If new tariffs are enacted, the costs are going up, and if our cost of goods sold goes up, unfortunately the cost for everybody goes up. This is not a tax on other countries. This is a tax on you,\n\nAnd that's really only the first layer of the onion as you can't have a trade war without retaliation. Something that on the surface, the US might have an upper hand in\n\nChina has more to lose than the US because US imports about 450 billion of goods from China, but China only imports 150 billion of goods from us. So even if China wants to retaliate against the US tariffs, there's only 150 billion of US goods to retaliate.\n\nBut China's intrinsic role in global supply chains could offer fresh methods of retaliation.\n\nChina dominates the production of some important metals such as germanium, gallium, and these are metals that are very critical to build semiconductors. So if China were to impose export controls on these crucial minerals that will have knock on effects in US ability to build up the AI industry or build up semiconductor plans,\n\nI'll bet it all. And as with any fight, things can get personal.\n\nSo in the first Trump administration eu, in retaliation to the US steel and aluminum tariff imposed 25% tariffs on US bourbon from Kentucky with the explicit goal of making Mitch McConnell, the Kentucky Senator unpopular. And similarly, China decides on what to retaliate in order to hit at the red states, the agriculture centers in the us. And so the industry that could suffer from a retaliation from a trade partners could range from agriculture, winemakers and automakers.\n\nBut like all policy, the devil is in the details. Something the international business community anxiously awaits the how and the when and for how long. All remain unknown and that uncertainty takes its toll on the economy.\n\nThe challenge becomes are you protecting against the risk of tariff? Are you protecting against the risk that expected tariffs are not going to be put on?\n\nIt's been found that when uncertainty on trade policy increased, what you have in a couple quarters down the line tends to be economic slowdown.\n\nWhen Trump was last in office, news coverage of trade policy uncertainty was high. It dropped under Biden and stayed low. But now that trump's back, so is the uncertainty.\n\nI can't tell you if our cost is going to go up by 0%, 10%, or 25%. I have no idea what's coming. And when you're having vague conversations with your big customers, they don't like it.\n\nUltimately, how this trade war impacts both the US and global economy will depend on the specifics. We'll have a long way to go before we can truly count the costs and the benefit of it."
        ],
        [
         "4",
         "3",
         "bloomberg",
         "We are continuing to get headlines out of the White House from President Trump talking about reciprocal tariffs. He has ordered his administration to consider imposing reciprocal tariffs on numerous trading partners to rebalance trade relations. The tariffs would be customized for each country offsetting not just their own levies on US goods, but also non tariff barriers that limit us trade. And he hopes to have a discussion with other nations about existing policies that have created an imbalanced trade environment open also to lowering tariffs of countries, remove trade powers. So again, we'll continue to monitor those headlines.\n\nYeah, we're getting some other headlines too, even as you speak, Carol, the president saying that the EU doesn't treat the US right when it comes to trade. And just a reminder, he did say this about seven or eight minutes ago that prices may go up in the short term. We'll bring you his comments live when that tape does start to roll a little later in the program.\n\nYeah. Also says, could start the reciprocal plan by April 2nd. So a little bit of delay. Let's get to it. What does it all mean? Bloomberg News, senior economics writer, Sean Donan is out there in our Washington DC News Bureau and then right here in our New York studio, Bloomberg News, international Economics and policy correspondent Michael McKee. Hey Sean, let's start with you. The president was tweeting or not tweeting, I guess, putting it out on his social media platform early this morning about reciprocal tariffs. We were widely reporting it. We're starting to get some details. What jumps out for you?\n\nWell, look, when he got up this morning, he put out on truth social that this was the big one, and he's kind of delivered in a way, the broadest set of tariffs that he has so far. But the key point here is that we don't yet know. And he said, actually he doesn't know yet what the numbers will be. There's going to be a process to study what these tariffs should be on individual countries. They are going to be targeting the countries with whom the US has the biggest trade deficits. That's going to be the eu that's going to be also countries like Vietnam and South Korea. Japan is going to be in the mix as well. And they're going to go country by country and take a look at essentially the barriers that US goods face when they head into those economies. Now the big headline point and the kind of broadening out of the tariff wars that we've seen today is Trump target how other countries tax or levy taxes.\nAnd that is particularly focused on value added taxes or VAT. And that's big in the eu. There's more than 160 countries in the world that use A VAT. The US of course does not. This kind of rekindles a battle that the US has had on and off with Europe since the 1960s over how to treat taxes and trade. But we're going to end up with, I think we can expect some big numbers aimed at some big trading partners. We just don't yet know what those numbers are going to be. But the economic war, if you will, is broadening out. This isn't just about tariffs anymore, it's about taxes, it's about regulation and other stuff.\n\nOne more headline coming out of the president in the White House, president Trump saying on exemptions or waivers being asked about that. And he says, I don't expect that. So that is certainly something we think about when tariffs are being imposed.\n\nHey Mike McKee, come on in here because you've been following this closely as well. You mentioned to me just before we went on air what Sean was talking about, this idea of the value added tax and that being a target of the president. Explain the significance of that.\n\nWell, the countries, particularly in Europe, as Sean said, impose a value added tax, which taxes the value added each step of manufacturing and also the value added by retailers. And so if you've spent any time in Europe, you bought anything, you pay that tax on top of that. And if you're from out of the country, you can get it refunded when you go to Heathrow. But the\n\nBeen there, done that.\n\nBut because this is added on top of the cost of the US goods, Trump says he considers it a tax. Different countries have different tax rates, but they're all fairly significant.\n\nMeaning we could reciprocate what the VAT is in other countries in tariffs of our own on those countries that impose the vats.\n\nBut it's hard to know exactly what reciprocate means in this case because we're not doing one for one because it's not just tariff levels. It's also going to be the vat. It's going to be subsidies that maybe governments give to companies there, regulations, ESG kind of stuff and exchange rates. The White House says. So that's why Howard Lutnick has to go back and try to figure out what the appropriate number for each country is. And it shows that this is a big one because there's a lot that's going into this now and it's in theory could add a lot to the cost of trade. And as you mentioned Carol, with the headline, this doesn't include cars, this doesn't include pharma. There's a lot of things yet to be tariff."
        ]
       ],
       "shape": {
        "columns": 3,
        "rows": 5
       }
      },
      "text/html": [
       "<div>\n",
       "<style scoped>\n",
       "    .dataframe tbody tr th:only-of-type {\n",
       "        vertical-align: middle;\n",
       "    }\n",
       "\n",
       "    .dataframe tbody tr th {\n",
       "        vertical-align: top;\n",
       "    }\n",
       "\n",
       "    .dataframe thead th {\n",
       "        text-align: right;\n",
       "    }\n",
       "</style>\n",
       "<table border=\"1\" class=\"dataframe\">\n",
       "  <thead>\n",
       "    <tr style=\"text-align: right;\">\n",
       "      <th></th>\n",
       "      <th>index</th>\n",
       "      <th>source</th>\n",
       "      <th>transcript</th>\n",
       "    </tr>\n",
       "  </thead>\n",
       "  <tbody>\n",
       "    <tr>\n",
       "      <th>0</th>\n",
       "      <td>1</td>\n",
       "      <td>bbc_news</td>\n",
       "      <td>We begin with the breaking news. A fresh trade...</td>\n",
       "    </tr>\n",
       "    <tr>\n",
       "      <th>1</th>\n",
       "      <td>2</td>\n",
       "      <td>bbc_news</td>\n",
       "      <td>There are growing fears of a major global trad...</td>\n",
       "    </tr>\n",
       "    <tr>\n",
       "      <th>2</th>\n",
       "      <td>3</td>\n",
       "      <td>bbc_news</td>\n",
       "      <td>I'm Helena Humphrey. Good to have you with us....</td>\n",
       "    </tr>\n",
       "    <tr>\n",
       "      <th>3</th>\n",
       "      <td>1</td>\n",
       "      <td>bloomberg</td>\n",
       "      <td>Congratulations, Mr.\\n\\nWell, he's back and gu...</td>\n",
       "    </tr>\n",
       "    <tr>\n",
       "      <th>4</th>\n",
       "      <td>3</td>\n",
       "      <td>bloomberg</td>\n",
       "      <td>We are continuing to get headlines out of the ...</td>\n",
       "    </tr>\n",
       "  </tbody>\n",
       "</table>\n",
       "</div>"
      ],
      "text/plain": [
       "  index     source                                         transcript\n",
       "0     1   bbc_news  We begin with the breaking news. A fresh trade...\n",
       "1     2   bbc_news  There are growing fears of a major global trad...\n",
       "2     3   bbc_news  I'm Helena Humphrey. Good to have you with us....\n",
       "3     1  bloomberg  Congratulations, Mr.\\n\\nWell, he's back and gu...\n",
       "4     3  bloomberg  We are continuing to get headlines out of the ..."
      ]
     },
     "execution_count": 4,
     "metadata": {},
     "output_type": "execute_result"
    }
   ],
   "source": [
    "transcript_df = pd.DataFrame(columns=['index', 'source', 'transcript'])\n",
    "\n",
    "comments_df = pd.DataFrame(columns=['index', 'source', 'leaning', 'reliability_score', 'bias_score', 'vader_transcript', 'vader_comment', 'comment'])\n",
    "\n",
    "# Iterate over each .txt file in the directory\n",
    "for file_name in os.listdir(comments_directory):\n",
    "\n",
    "    # Construct comments file path\n",
    "    file_path = comments_directory / file_name\n",
    "\n",
    "    # Remove \".csv\" and concatenate \"_transcript.txt\" for file_name\n",
    "    transcript_file_name = file_name.replace(\".csv\", \"_transcript.txt\")\n",
    "    transcript_file_path = transcripts_directory / transcript_file_name\n",
    "\n",
    "    # TODO : Read in the CSV file for the comments\n",
    "    input_df = pd.read_csv(file_path, encoding=\"utf-8\")\n",
    "    input_df = input_df.dropna()\n",
    "\n",
    "    # Drop 'Unnamed: 0' column if it exists, as not all csv pulls have the index\n",
    "    if 'Unnamed: 0' in input_df.columns:\n",
    "        input_df = input_df.drop(columns=['Unnamed: 0'])\n",
    "\n",
    "    # TODO : Read in the transcript file and append score to dataframe\n",
    "    # NOTE : Cannot make use of any data without a transcript\n",
    "    if transcript_file_path.exists():\n",
    "        with open(transcript_file_path, \"r\", encoding=\"utf-8\") as file:\n",
    "            transcript_text = file.read().strip()\n",
    "\n",
    "        # DONE : Define unique identifiers for the data\n",
    "        source_name = re.sub(r\"[0-9]+\\.csv\", \"\", file_name)\n",
    "        index = int(re.sub(r\"\\D\", \"\", file_name))\n",
    "\n",
    "        # TODO : Turn this into a function\n",
    "        # NOTE : Cannot make use of a function withot having , \n",
    "        if reliability_scores[source_name] != DUDNUM:\n",
    "\n",
    "            # TODO : Add the news source name to the dataframe\n",
    "            input_df['index'] = index\n",
    "            input_df[\"source\"] = source_name\n",
    "            input_df['leaning'] = bias_ratings[source_name]\n",
    "            input_df[\"reliability_score\"] = reliability_scores[source_name]\n",
    "            input_df[\"bias_score\"] = bias_scores[source_name]\n",
    "\n",
    "            # TODO : Add the VADER sentiment score to the dataframe\n",
    "            input_df[\"vader_transcript\"] = analyze_sentiment_vader(transcript_text)\n",
    "            input_df[\"vader_comment\"] = input_df.apply(lambda row: analyze_sentiment_vader(row['comment']), axis=1)\n",
    "\n",
    "            # DONE : Append the transcript as a row to the transcript dataframe\n",
    "            np_array_entry = np.array([index, source_name, transcript_text])\n",
    "            transcript_df.loc[len(transcript_df)] = np_array_entry\n",
    "\n",
    "\n",
    "            # Drop the 0th index row\n",
    "            input_df = input_df.drop(0)\n",
    "\n",
    "            comments_df = pd.concat([comments_df, input_df])\n",
    "\n",
    "transcript_df.head()"
   ]
  },
  {
   "cell_type": "code",
   "execution_count": 5,
   "metadata": {},
   "outputs": [
    {
     "data": {
      "application/vnd.microsoft.datawrangler.viewer.v0+json": {
       "columns": [
        {
         "name": "index",
         "rawType": "int64",
         "type": "integer"
        },
        {
         "name": "index",
         "rawType": "object",
         "type": "unknown"
        },
        {
         "name": "source",
         "rawType": "object",
         "type": "string"
        },
        {
         "name": "leaning",
         "rawType": "object",
         "type": "string"
        },
        {
         "name": "reliability_score",
         "rawType": "float64",
         "type": "float"
        },
        {
         "name": "bias_score",
         "rawType": "float64",
         "type": "float"
        },
        {
         "name": "vader_transcript",
         "rawType": "float64",
         "type": "float"
        },
        {
         "name": "vader_comment",
         "rawType": "float64",
         "type": "float"
        },
        {
         "name": "comment",
         "rawType": "object",
         "type": "string"
        }
       ],
       "conversionMethod": "pd.DataFrame",
       "ref": "a0d54e2d-31e4-4af7-a765-51c6ef1077f7",
       "rows": [
        [
         "1",
         "1",
         "bbc_news",
         "Center",
         "44.73",
         "-1.33",
         "-0.8748",
         "0.3182",
         "You tariff me, I tariff you. It seems fair to me. "
        ],
        [
         "2",
         "1",
         "bbc_news",
         "Center",
         "44.73",
         "-1.33",
         "-0.8748",
         "0.0",
         "Wonder how Trump administration is going to be pumping Qardun Token"
        ],
        [
         "3",
         "1",
         "bbc_news",
         "Center",
         "44.73",
         "-1.33",
         "-0.8748",
         "-0.7131",
         "if Fentanyl enter US through Canada, why don't Canada experience the same problem of Fentanyl abuse like US??? logic says it should be abundant and cheaper in Canada compared to US"
        ],
        [
         "4",
         "1",
         "bbc_news",
         "Center",
         "44.73",
         "-1.33",
         "-0.8748",
         "0.296",
         "So trump said he’d tariff Canada, Canada threatened to tariff back. Then trump got Canada to promise to carry on doing what they were already doing, and in return for things staying the same he’s not going ahead with the tariffs. Truly the deal maker of the century"
        ],
        [
         "5",
         "1",
         "bbc_news",
         "Center",
         "44.73",
         "-1.33",
         "-0.8748",
         "-0.6597",
         "America needs to stop blaming other countries for everything"
        ]
       ],
       "shape": {
        "columns": 8,
        "rows": 5
       }
      },
      "text/html": [
       "<div>\n",
       "<style scoped>\n",
       "    .dataframe tbody tr th:only-of-type {\n",
       "        vertical-align: middle;\n",
       "    }\n",
       "\n",
       "    .dataframe tbody tr th {\n",
       "        vertical-align: top;\n",
       "    }\n",
       "\n",
       "    .dataframe thead th {\n",
       "        text-align: right;\n",
       "    }\n",
       "</style>\n",
       "<table border=\"1\" class=\"dataframe\">\n",
       "  <thead>\n",
       "    <tr style=\"text-align: right;\">\n",
       "      <th></th>\n",
       "      <th>index</th>\n",
       "      <th>source</th>\n",
       "      <th>leaning</th>\n",
       "      <th>reliability_score</th>\n",
       "      <th>bias_score</th>\n",
       "      <th>vader_transcript</th>\n",
       "      <th>vader_comment</th>\n",
       "      <th>comment</th>\n",
       "    </tr>\n",
       "  </thead>\n",
       "  <tbody>\n",
       "    <tr>\n",
       "      <th>1</th>\n",
       "      <td>1</td>\n",
       "      <td>bbc_news</td>\n",
       "      <td>Center</td>\n",
       "      <td>44.73</td>\n",
       "      <td>-1.33</td>\n",
       "      <td>-0.8748</td>\n",
       "      <td>0.3182</td>\n",
       "      <td>You tariff me, I tariff you. It seems fair to ...</td>\n",
       "    </tr>\n",
       "    <tr>\n",
       "      <th>2</th>\n",
       "      <td>1</td>\n",
       "      <td>bbc_news</td>\n",
       "      <td>Center</td>\n",
       "      <td>44.73</td>\n",
       "      <td>-1.33</td>\n",
       "      <td>-0.8748</td>\n",
       "      <td>0.0000</td>\n",
       "      <td>Wonder how Trump administration is going to be...</td>\n",
       "    </tr>\n",
       "    <tr>\n",
       "      <th>3</th>\n",
       "      <td>1</td>\n",
       "      <td>bbc_news</td>\n",
       "      <td>Center</td>\n",
       "      <td>44.73</td>\n",
       "      <td>-1.33</td>\n",
       "      <td>-0.8748</td>\n",
       "      <td>-0.7131</td>\n",
       "      <td>if Fentanyl enter US through Canada, why don't...</td>\n",
       "    </tr>\n",
       "    <tr>\n",
       "      <th>4</th>\n",
       "      <td>1</td>\n",
       "      <td>bbc_news</td>\n",
       "      <td>Center</td>\n",
       "      <td>44.73</td>\n",
       "      <td>-1.33</td>\n",
       "      <td>-0.8748</td>\n",
       "      <td>0.2960</td>\n",
       "      <td>So trump said he’d tariff Canada, Canada threa...</td>\n",
       "    </tr>\n",
       "    <tr>\n",
       "      <th>5</th>\n",
       "      <td>1</td>\n",
       "      <td>bbc_news</td>\n",
       "      <td>Center</td>\n",
       "      <td>44.73</td>\n",
       "      <td>-1.33</td>\n",
       "      <td>-0.8748</td>\n",
       "      <td>-0.6597</td>\n",
       "      <td>America needs to stop blaming other countries ...</td>\n",
       "    </tr>\n",
       "  </tbody>\n",
       "</table>\n",
       "</div>"
      ],
      "text/plain": [
       "  index    source leaning  reliability_score  bias_score  vader_transcript  \\\n",
       "1     1  bbc_news  Center              44.73       -1.33           -0.8748   \n",
       "2     1  bbc_news  Center              44.73       -1.33           -0.8748   \n",
       "3     1  bbc_news  Center              44.73       -1.33           -0.8748   \n",
       "4     1  bbc_news  Center              44.73       -1.33           -0.8748   \n",
       "5     1  bbc_news  Center              44.73       -1.33           -0.8748   \n",
       "\n",
       "   vader_comment                                            comment  \n",
       "1         0.3182  You tariff me, I tariff you. It seems fair to ...  \n",
       "2         0.0000  Wonder how Trump administration is going to be...  \n",
       "3        -0.7131  if Fentanyl enter US through Canada, why don't...  \n",
       "4         0.2960  So trump said he’d tariff Canada, Canada threa...  \n",
       "5        -0.6597  America needs to stop blaming other countries ...  "
      ]
     },
     "execution_count": 5,
     "metadata": {},
     "output_type": "execute_result"
    }
   ],
   "source": [
    "comments_df.head()"
   ]
  },
  {
   "cell_type": "code",
   "execution_count": 6,
   "metadata": {},
   "outputs": [],
   "source": [
    "comments_df.to_csv(get_relative_path() / \"comments.csv\", index=False)\n",
    "transcript_df.to_csv(get_relative_path() / \"transcripts.csv\", index=False)"
   ]
  },
  {
   "cell_type": "code",
   "execution_count": null,
   "metadata": {},
   "outputs": [],
   "source": []
  }
 ],
 "metadata": {
  "kernelspec": {
   "display_name": "predAn",
   "language": "python",
   "name": "python3"
  },
  "language_info": {
   "codemirror_mode": {
    "name": "ipython",
    "version": 3
   },
   "file_extension": ".py",
   "mimetype": "text/x-python",
   "name": "python",
   "nbconvert_exporter": "python",
   "pygments_lexer": "ipython3",
   "version": "3.12.3"
  }
 },
 "nbformat": 4,
 "nbformat_minor": 2
}
