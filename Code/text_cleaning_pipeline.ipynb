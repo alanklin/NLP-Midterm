{
 "cells": [
  {
   "cell_type": "markdown",
   "metadata": {},
   "source": [
    "# Text Cleaning Pipeline\n",
    "The goal of this file is to import the comments and news sources, join the data, and find the sentiment scores of both the source and the cleaned text before performing analysis."
   ]
  },
  {
   "cell_type": "code",
   "execution_count": 1,
   "metadata": {},
   "outputs": [
    {
     "name": "stderr",
     "output_type": "stream",
     "text": [
      "c:\\Users\\Trevo\\OneDrive\\Documents\\GitHub\\NLP-Midterm\\Code\\_functions.py:14: FutureWarning: The demoji.download_codes attribute is deprecated and will be removed from demoji in a future version. It is an unused attribute as emoji codes are now distributed directly with the demoji package.\n",
      "  demoji.download_codes()\n",
      "[nltk_data] Downloading package vader_lexicon to\n",
      "[nltk_data]     C:\\Users\\Trevo\\AppData\\Roaming\\nltk_data...\n",
      "[nltk_data]   Package vader_lexicon is already up-to-date!\n",
      "[nltk_data] Downloading package vader_lexicon to\n",
      "[nltk_data]     C:\\Users\\Trevo\\AppData\\Roaming\\nltk_data...\n",
      "[nltk_data]   Package vader_lexicon is already up-to-date!\n"
     ]
    }
   ],
   "source": [
    "from _functions import *"
   ]
  },
  {
   "cell_type": "markdown",
   "metadata": {},
   "source": [
    "## Create Model Input\n",
    "Complete this process through concatenating the comments and the video transcripts"
   ]
  },
  {
   "cell_type": "code",
   "execution_count": 2,
   "metadata": {},
   "outputs": [],
   "source": [
    "parent_directory = Path().resolve().parent\n",
    "data_directory = parent_directory / \"Data\"\n",
    "comments_directory = data_directory / \"video_comments\"\n",
    "transcripts_directory = data_directory / \"video_transcripts\""
   ]
  },
  {
   "cell_type": "code",
   "execution_count": 3,
   "metadata": {},
   "outputs": [],
   "source": [
    "DUDNUM = 999999999\n",
    "\n",
    "reliability_scores = {\"nbc_news\": 42.78, \"wsj\": 48.87, \"bbc_news\": 44.73, \"bloomberg\" : 42.11,\n",
    "                      \"cnn\" : 42.13, \"sixty_minutes\" : 34.19, \"sky_news\" : 42.24,\n",
    "                       \"wusa\": 46.67, \"dw_news\" : DUDNUM, \"forbes\" : 41.06,\n",
    "                        \"fox_news\" : 24.83, \"podcast_cvt\" : DUDNUM, \"econ_explained\": DUDNUM}\n",
    "\n",
    "bias_scores = {\"nbc_news\": -5.61, \"wsj\": -0.27, \"bbc_news\" : -1.33, \"bloomberg\": -3.16, \"cnn\" : -6.18,\n",
    "               \"sixty_minutes\" : -9.55, \"sky_news\" : -0.88, \"wusa\": -1.50, \"dw_news\" : DUDNUM,\n",
    "               \"forbes\": -3.87, \"fox_news\": 18.50, \"podcast_cvt\" : DUDNUM, \"econ_explained\": DUDNUM}\n",
    "\n",
    "bias_ratings = {\"nbc_news\": \"Lean Left\", \"wsj\": \"Center\", \"bbc_news\" : \"Center\", \"bloomberg\": \"Lean Left\", \"cnn\" : \"Lean Left\",\n",
    "               \"sixty_minutes\" : \"Lean Left\", \"sky_news\" : \"Lean Left\", \"wusa\": -1.50, \"dw_news\" : DUDNUM,\n",
    "               \"forbes\": \"Center\", \"fox_news\": \"Right\", \"podcast_cvt\" : DUDNUM, \"econ_explained\": DUDNUM}"
   ]
  },
  {
   "cell_type": "markdown",
   "metadata": {},
   "source": [
    "## Data Processing and Sentiment Analysis\n",
    "\n",
    "This code processes video comments and transcripts, extracting relevant information and calculating sentiment scores. It performs the following steps:\n",
    "\n",
    "1. **Initialize DataFrames**: Creates empty DataFrames for storing transcripts and comments.\n",
    "2. **Iterate Over Files**: Loops through each file in the comments directory.\n",
    "3. **Read Comments**: Reads the comments from CSV files, dropping any rows with missing values and unnecessary columns.\n",
    "4. **Read Transcripts**: Reads the corresponding transcript files if they exist.\n",
    "5. **Extract Information**: Extracts the source name and index from the file name.\n",
    "6. **Filter Data**: Filters out sources with invalid reliability scores.\n",
    "7. **Add Metadata**: Adds metadata such as source name, reliability score, and bias score to the comments DataFrame.\n",
    "8. **Sentiment Analysis**: Calculates VADER sentiment scores for both the transcript and comments.\n",
    "9. **Append Data**: Appends the processed data to the respective DataFrames.\n",
    "10. **Save Data**: Saves the final DataFrames to CSV files."
   ]
  },
  {
   "cell_type": "code",
   "execution_count": 4,
   "metadata": {},
   "outputs": [
    {
     "name": "stderr",
     "output_type": "stream",
     "text": [
      "C:\\Users\\Trevo\\AppData\\Local\\Temp\\ipykernel_19408\\1687502094.py:60: FutureWarning: The behavior of DataFrame concatenation with empty or all-NA entries is deprecated. In a future version, this will no longer exclude empty or all-NA columns when determining the result dtypes. To retain the old behavior, exclude the relevant entries before the concat operation.\n",
      "  comments_df = pd.concat([comments_df, input_df])\n"
     ]
    }
   ],
   "source": [
    "transcript_df = pd.DataFrame(columns=['index', 'source', 'transcript'])\n",
    "\n",
    "comments_df = pd.DataFrame(columns=['index', 'source', 'leaning', 'reliability_score', 'bias_score', 'vader_transcript', 'vader_comment', 'comment'])\n",
    "\n",
    "# Iterate over each .txt file in the directory\n",
    "for file_name in os.listdir(comments_directory):\n",
    "\n",
    "    # Construct comments file path\n",
    "    file_path = comments_directory / file_name\n",
    "\n",
    "    # Remove \".csv\" and concatenate \"_transcript.txt\" for file_name\n",
    "    transcript_file_name = file_name.replace(\".csv\", \"_transcript.txt\")\n",
    "    transcript_file_path = transcripts_directory / transcript_file_name\n",
    "\n",
    "    # TODO : Read in the CSV file for the comments\n",
    "    input_df = pd.read_csv(file_path, encoding=\"utf-8\")\n",
    "    input_df = input_df.dropna()\n",
    "\n",
    "    # Drop 'Unnamed: 0' column if it exists, as not all csv pulls have the index\n",
    "    if 'Unnamed: 0' in input_df.columns:\n",
    "        input_df = input_df.drop(columns=['Unnamed: 0'])\n",
    "\n",
    "    # TODO : Read in the transcript file and append score to dataframe\n",
    "    # NOTE : Cannot make use of any data without a transcript\n",
    "    if transcript_file_path.exists():\n",
    "        with open(transcript_file_path, \"r\", encoding=\"utf-8\") as file:\n",
    "            transcript_text = file.read().strip()\n",
    "\n",
    "        # DONE : Define unique identifiers for the data\n",
    "        source_name = re.sub(r\"[0-9]+\\.csv\", \"\", file_name)\n",
    "        index = int(re.sub(r\"\\D\", \"\", file_name))\n",
    "\n",
    "        # TODO : Turn this into a function\n",
    "        # NOTE : Cannot make use of a function withot having , \n",
    "        if reliability_scores[source_name] != DUDNUM:\n",
    "\n",
    "            # TODO : Add the news source name to the dataframe\n",
    "            input_df['index'] = index\n",
    "            input_df[\"source\"] = source_name\n",
    "            input_df['leaning'] = bias_ratings[source_name]\n",
    "            input_df[\"reliability_score\"] = reliability_scores[source_name]\n",
    "            input_df[\"bias_score\"] = bias_scores[source_name]\n",
    "\n",
    "            # TODO : Add the VADER sentiment score to the dataframe\n",
    "            input_df[\"vader_transcript\"] = analyze_sentiment_vader(transcript_text)\n",
    "\n",
    "            # TODO : Clean the comment\n",
    "            input_df[\"clean_comment\"] = input_df.apply(lambda row: preprocess_text(row['comment']), axis=1)\n",
    "\n",
    "            input_df[\"vader_comment\"] = input_df.apply(lambda row: analyze_sentiment_vader(row['clean_comment']), axis=1)\n",
    "\n",
    "            # DONE : Append the transcript as a row to the transcript dataframe\n",
    "            np_array_entry = np.array([index, source_name, transcript_text])\n",
    "            transcript_df.loc[len(transcript_df)] = np_array_entry\n",
    "\n",
    "\n",
    "            # Drop the 0th index row\n",
    "            input_df = input_df.drop(0)\n",
    "\n",
    "            comments_df = pd.concat([comments_df, input_df])"
   ]
  },
  {
   "cell_type": "markdown",
   "metadata": {},
   "source": [
    "## Determining Sarcasm of the Comment"
   ]
  },
  {
   "cell_type": "code",
   "execution_count": 5,
   "metadata": {},
   "outputs": [
    {
     "data": {
      "application/vnd.microsoft.datawrangler.viewer.v0+json": {
       "columns": [
        {
         "name": "index",
         "rawType": "int64",
         "type": "integer"
        },
        {
         "name": "label",
         "rawType": "int64",
         "type": "integer"
        },
        {
         "name": "comment",
         "rawType": "object",
         "type": "string"
        }
       ],
       "conversionMethod": "pd.DataFrame",
       "ref": "1aa1f2f9-5d89-4a2b-af1b-b27959b17e0e",
       "rows": [
        [
         "0",
         "0",
         "NC and NH."
        ],
        [
         "1",
         "0",
         "I think a significant amount would be against spending their tax dollars on other people."
        ],
        [
         "2",
         "0",
         "because it's what really bothers him... and it's a sign of weakness."
        ],
        [
         "3",
         "0",
         "Conservatism as an ideology is for sure a reaction to liberalism, but that is not to say it has not developed into something other than that since its conception."
        ],
        [
         "4",
         "0",
         "Maybe not control, but certainly that is evidence of collusion."
        ]
       ],
       "shape": {
        "columns": 2,
        "rows": 5
       }
      },
      "text/html": [
       "<div>\n",
       "<style scoped>\n",
       "    .dataframe tbody tr th:only-of-type {\n",
       "        vertical-align: middle;\n",
       "    }\n",
       "\n",
       "    .dataframe tbody tr th {\n",
       "        vertical-align: top;\n",
       "    }\n",
       "\n",
       "    .dataframe thead th {\n",
       "        text-align: right;\n",
       "    }\n",
       "</style>\n",
       "<table border=\"1\" class=\"dataframe\">\n",
       "  <thead>\n",
       "    <tr style=\"text-align: right;\">\n",
       "      <th></th>\n",
       "      <th>label</th>\n",
       "      <th>comment</th>\n",
       "    </tr>\n",
       "  </thead>\n",
       "  <tbody>\n",
       "    <tr>\n",
       "      <th>0</th>\n",
       "      <td>0</td>\n",
       "      <td>NC and NH.</td>\n",
       "    </tr>\n",
       "    <tr>\n",
       "      <th>1</th>\n",
       "      <td>0</td>\n",
       "      <td>I think a significant amount would be against ...</td>\n",
       "    </tr>\n",
       "    <tr>\n",
       "      <th>2</th>\n",
       "      <td>0</td>\n",
       "      <td>because it's what really bothers him... and it...</td>\n",
       "    </tr>\n",
       "    <tr>\n",
       "      <th>3</th>\n",
       "      <td>0</td>\n",
       "      <td>Conservatism as an ideology is for sure a reac...</td>\n",
       "    </tr>\n",
       "    <tr>\n",
       "      <th>4</th>\n",
       "      <td>0</td>\n",
       "      <td>Maybe not control, but certainly that is evide...</td>\n",
       "    </tr>\n",
       "  </tbody>\n",
       "</table>\n",
       "</div>"
      ],
      "text/plain": [
       "   label                                            comment\n",
       "0      0                                         NC and NH.\n",
       "1      0  I think a significant amount would be against ...\n",
       "2      0  because it's what really bothers him... and it...\n",
       "3      0  Conservatism as an ideology is for sure a reac...\n",
       "4      0  Maybe not control, but certainly that is evide..."
      ]
     },
     "execution_count": 5,
     "metadata": {},
     "output_type": "execute_result"
    }
   ],
   "source": [
    "import pandas as pd\n",
    "from _functions import get_relative_path\n",
    "\n",
    "sarcasm_df = pd.read_csv(get_relative_path() / \"reddit_sarcasm_training.csv\", encoding=\"utf-8\")\n",
    "sarcasm_df.head()"
   ]
  },
  {
   "cell_type": "code",
   "execution_count": 6,
   "metadata": {},
   "outputs": [
    {
     "data": {
      "application/vnd.microsoft.datawrangler.viewer.v0+json": {
       "columns": [
        {
         "name": "index",
         "rawType": "int64",
         "type": "integer"
        },
        {
         "name": "label",
         "rawType": "int64",
         "type": "integer"
        },
        {
         "name": "comment",
         "rawType": "object",
         "type": "string"
        }
       ],
       "conversionMethod": "pd.DataFrame",
       "ref": "33247277-be0f-4de0-9c1b-466fa4fff4d0",
       "rows": [
        [
         "0",
         "0",
         "NC and NH."
        ],
        [
         "1",
         "0",
         "I think a significant amount would be against spending their tax dollars on other people."
        ],
        [
         "2",
         "0",
         "because it's what really bothers him... and it's a sign of weakness."
        ],
        [
         "3",
         "0",
         "Conservatism as an ideology is for sure a reaction to liberalism, but that is not to say it has not developed into something other than that since its conception."
        ],
        [
         "4",
         "0",
         "Maybe not control, but certainly that is evidence of collusion."
        ]
       ],
       "shape": {
        "columns": 2,
        "rows": 5
       }
      },
      "text/html": [
       "<div>\n",
       "<style scoped>\n",
       "    .dataframe tbody tr th:only-of-type {\n",
       "        vertical-align: middle;\n",
       "    }\n",
       "\n",
       "    .dataframe tbody tr th {\n",
       "        vertical-align: top;\n",
       "    }\n",
       "\n",
       "    .dataframe thead th {\n",
       "        text-align: right;\n",
       "    }\n",
       "</style>\n",
       "<table border=\"1\" class=\"dataframe\">\n",
       "  <thead>\n",
       "    <tr style=\"text-align: right;\">\n",
       "      <th></th>\n",
       "      <th>label</th>\n",
       "      <th>comment</th>\n",
       "    </tr>\n",
       "  </thead>\n",
       "  <tbody>\n",
       "    <tr>\n",
       "      <th>0</th>\n",
       "      <td>0</td>\n",
       "      <td>NC and NH.</td>\n",
       "    </tr>\n",
       "    <tr>\n",
       "      <th>1</th>\n",
       "      <td>0</td>\n",
       "      <td>I think a significant amount would be against ...</td>\n",
       "    </tr>\n",
       "    <tr>\n",
       "      <th>2</th>\n",
       "      <td>0</td>\n",
       "      <td>because it's what really bothers him... and it...</td>\n",
       "    </tr>\n",
       "    <tr>\n",
       "      <th>3</th>\n",
       "      <td>0</td>\n",
       "      <td>Conservatism as an ideology is for sure a reac...</td>\n",
       "    </tr>\n",
       "    <tr>\n",
       "      <th>4</th>\n",
       "      <td>0</td>\n",
       "      <td>Maybe not control, but certainly that is evide...</td>\n",
       "    </tr>\n",
       "  </tbody>\n",
       "</table>\n",
       "</div>"
      ],
      "text/plain": [
       "   label                                            comment\n",
       "0      0                                         NC and NH.\n",
       "1      0  I think a significant amount would be against ...\n",
       "2      0  because it's what really bothers him... and it...\n",
       "3      0  Conservatism as an ideology is for sure a reac...\n",
       "4      0  Maybe not control, but certainly that is evide..."
      ]
     },
     "execution_count": 6,
     "metadata": {},
     "output_type": "execute_result"
    }
   ],
   "source": [
    "# Drop NaN values\n",
    "sarcasm_df = sarcasm_df.dropna()\n",
    "sarcasm_df = sarcasm_df.reset_index(drop=True)\n",
    "sarcasm_df.head()"
   ]
  },
  {
   "cell_type": "code",
   "execution_count": 7,
   "metadata": {},
   "outputs": [
    {
     "data": {
      "application/vnd.microsoft.datawrangler.viewer.v0+json": {
       "columns": [
        {
         "name": "index",
         "rawType": "int64",
         "type": "integer"
        },
        {
         "name": "label",
         "rawType": "int64",
         "type": "integer"
        },
        {
         "name": "comment",
         "rawType": "object",
         "type": "string"
        }
       ],
       "conversionMethod": "pd.DataFrame",
       "ref": "74e4895d-fd36-4272-9818-84e941e675fe",
       "rows": [
        [
         "0",
         "1",
         "But the problem is how progressives have failed to reach out to them, and aren't more tolerant of their \"economic anxiety.\""
        ],
        [
         "1",
         "0",
         "I'll vote against Hillary, thanks tho!"
        ],
        [
         "2",
         "1",
         "As opposed to all of the other qualified and competent candidates we had."
        ],
        [
         "3",
         "0",
         "Dribble."
        ],
        [
         "4",
         "0",
         "By forming a PAC, money that is donated and not used will go into his pocket."
        ]
       ],
       "shape": {
        "columns": 2,
        "rows": 5
       }
      },
      "text/html": [
       "<div>\n",
       "<style scoped>\n",
       "    .dataframe tbody tr th:only-of-type {\n",
       "        vertical-align: middle;\n",
       "    }\n",
       "\n",
       "    .dataframe tbody tr th {\n",
       "        vertical-align: top;\n",
       "    }\n",
       "\n",
       "    .dataframe thead th {\n",
       "        text-align: right;\n",
       "    }\n",
       "</style>\n",
       "<table border=\"1\" class=\"dataframe\">\n",
       "  <thead>\n",
       "    <tr style=\"text-align: right;\">\n",
       "      <th></th>\n",
       "      <th>label</th>\n",
       "      <th>comment</th>\n",
       "    </tr>\n",
       "  </thead>\n",
       "  <tbody>\n",
       "    <tr>\n",
       "      <th>0</th>\n",
       "      <td>1</td>\n",
       "      <td>But the problem is how progressives have faile...</td>\n",
       "    </tr>\n",
       "    <tr>\n",
       "      <th>1</th>\n",
       "      <td>0</td>\n",
       "      <td>I'll vote against Hillary, thanks tho!</td>\n",
       "    </tr>\n",
       "    <tr>\n",
       "      <th>2</th>\n",
       "      <td>1</td>\n",
       "      <td>As opposed to all of the other qualified and c...</td>\n",
       "    </tr>\n",
       "    <tr>\n",
       "      <th>3</th>\n",
       "      <td>0</td>\n",
       "      <td>Dribble.</td>\n",
       "    </tr>\n",
       "    <tr>\n",
       "      <th>4</th>\n",
       "      <td>0</td>\n",
       "      <td>By forming a PAC, money that is donated and no...</td>\n",
       "    </tr>\n",
       "  </tbody>\n",
       "</table>\n",
       "</div>"
      ],
      "text/plain": [
       "   label                                            comment\n",
       "0      1  But the problem is how progressives have faile...\n",
       "1      0             I'll vote against Hillary, thanks tho!\n",
       "2      1  As opposed to all of the other qualified and c...\n",
       "3      0                                           Dribble.\n",
       "4      0  By forming a PAC, money that is donated and no..."
      ]
     },
     "execution_count": 7,
     "metadata": {},
     "output_type": "execute_result"
    }
   ],
   "source": [
    "sarcasm_sample_df = sarcasm_df.sample(n=2000, random_state=8)\n",
    "sarcasm_sample_df = sarcasm_sample_df.reset_index(drop=True)\n",
    "sarcasm_sample_df.head()"
   ]
  },
  {
   "cell_type": "code",
   "execution_count": 8,
   "metadata": {},
   "outputs": [
    {
     "name": "stderr",
     "output_type": "stream",
     "text": [
      "Some weights of BertForSequenceClassification were not initialized from the model checkpoint at bert-base-uncased and are newly initialized: ['classifier.bias', 'classifier.weight']\n",
      "You should probably TRAIN this model on a down-stream task to be able to use it for predictions and inference.\n"
     ]
    },
    {
     "name": "stdout",
     "output_type": "stream",
     "text": [
      "Epoch 1, Loss: 0.6343585167825222\n",
      "Epoch 2, Loss: 0.4652016258239746\n",
      "Epoch 3, Loss: 0.24268606734462084\n",
      "Validation Accuracy: 0.7225\n",
      "              precision    recall  f1-score   support\n",
      "\n",
      "           0       0.64      0.72      0.67       160\n",
      "           1       0.79      0.72      0.76       240\n",
      "\n",
      "    accuracy                           0.72       400\n",
      "   macro avg       0.71      0.72      0.72       400\n",
      "weighted avg       0.73      0.72      0.72       400\n",
      "\n",
      "['Sarcastic', 'Not Sarcastic', 'Sarcastic']\n"
     ]
    }
   ],
   "source": [
    "from BERT import SarcasmDetector\n",
    "import pandas as pd\n",
    "\n",
    "detector = SarcasmDetector()\n",
    "detector.train(sarcasm_sample_df['comment'].tolist(), sarcasm_sample_df['label'].tolist())\n",
    "\n",
    "# Predict on new examples\n",
    "new_texts = [\n",
    "    \"Oh fantastic, my car broke down in the middle of nowhere!\",\n",
    "    \"I'm really looking forward to my dentist appointment tomorrow.\",\n",
    "    \"I just won the lottery! Best day ever!\"\n",
    "]\n",
    "print(detector.predict(new_texts))"
   ]
  },
  {
   "cell_type": "code",
   "execution_count": null,
   "metadata": {},
   "outputs": [
    {
     "name": "stdout",
     "output_type": "stream",
     "text": [
      "Text: Let's just hand over the keys to the economy to a guy who can manage neither his campaign finances nor his tax returns, what could go wrong ?\n",
      "Sarcastic? ['Sarcastic']\n"
     ]
    }
   ],
   "source": [
    "# Test sarcasm detection\n",
    "test_text = sarcasm_sample_df[\"comment\"].iloc[8]\n",
    "print(f\"Text: {test_text}\\nSarcastic? {detector.predict([test_text])}\")"
   ]
  },
  {
   "cell_type": "code",
   "execution_count": 12,
   "metadata": {},
   "outputs": [],
   "source": [
    "comments_df['sarcasm'] = detector.predict(comments_df['clean_comment'].tolist())"
   ]
  },
  {
   "cell_type": "code",
   "execution_count": 13,
   "metadata": {},
   "outputs": [],
   "source": [
    "# Save data for analysis\n",
    "\n",
    "comments_df.to_csv(get_relative_path() / \"comments.csv\", index=False)\n",
    "transcript_df.to_csv(get_relative_path() / \"transcripts.csv\", index=False)"
   ]
  }
 ],
 "metadata": {
  "kernelspec": {
   "display_name": "predAn",
   "language": "python",
   "name": "python3"
  },
  "language_info": {
   "codemirror_mode": {
    "name": "ipython",
    "version": 3
   },
   "file_extension": ".py",
   "mimetype": "text/x-python",
   "name": "python",
   "nbconvert_exporter": "python",
   "pygments_lexer": "ipython3",
   "version": "3.12.3"
  }
 },
 "nbformat": 4,
 "nbformat_minor": 2
}
