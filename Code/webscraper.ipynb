{
 "cells": [
  {
   "cell_type": "code",
   "execution_count": 1,
   "metadata": {},
   "outputs": [],
   "source": [
    "\n",
    "import time\n",
    "from selenium import webdriver\n",
    "from selenium.webdriver.chrome.service import Service\n",
    "from selenium.webdriver.common.by import By\n",
    "from selenium.webdriver.common.keys import Keys\n",
    "from selenium.webdriver.support.ui import WebDriverWait\n",
    "from selenium.webdriver.support import expected_conditions as EC\n",
    "\n",
    "import pandas as pd\n"
   ]
  },
  {
   "cell_type": "code",
   "execution_count": 2,
   "metadata": {},
   "outputs": [],
   "source": [
    "# Path to ChromeDriver\n",
    "chrome_driver_path = r'C:\\Program Files\\chromedriver.exe'"
   ]
  },
  {
   "cell_type": "code",
   "execution_count": 3,
   "metadata": {},
   "outputs": [],
   "source": [
    "def youtube_scrape(url):\n",
    "\n",
    "    service = Service(chrome_driver_path)\n",
    "    driver = webdriver.Chrome(service=service)\n",
    "\n",
    "    try:\n",
    "        data = []\n",
    "        youtube_video_url = url\n",
    "\n",
    "        wait = WebDriverWait(driver, 15)\n",
    "        driver.get(youtube_video_url)\n",
    "\n",
    "        # Scroll down to load comments\n",
    "        for _ in range(200):\n",
    "            wait.until(EC.visibility_of_element_located((By.TAG_NAME, \"body\"))).send_keys(Keys.END)\n",
    "            time.sleep(2)  # Reduce sleep time for efficiency\n",
    "\n",
    "        # Extract comments\n",
    "        for comment in wait.until(EC.presence_of_all_elements_located((By.CSS_SELECTOR, \"#content\"))):\n",
    "            data.append(comment.text)\n",
    "\n",
    "        print(f\"Extracted {len(data)} comments.\")\n",
    "\n",
    "    finally:\n",
    "        driver.quit()  # Ensure driver quits properly\n",
    "        return data"
   ]
  },
  {
   "cell_type": "code",
   "execution_count": 4,
   "metadata": {},
   "outputs": [
    {
     "name": "stdout",
     "output_type": "stream",
     "text": [
      "Extracted 92 comments.\n",
      "                                              comment\n",
      "0   Skip navigation\\nSign in\\n0:00 / 5:16\\nHow New...\n",
      "1                                                    \n",
      "2                                                    \n",
      "3                                                    \n",
      "4                                                    \n",
      "..                                                ...\n",
      "87  Couldn't he have just requested a summit to di...\n",
      "88            Its been 3 days.  Propaganda media here\n",
      "89  For God's sake... It is as simple as this: the...\n",
      "90  The entire Wall Street Journal editorial board...\n",
      "91  Im not an expert on the situation, but i belie...\n",
      "\n",
      "[92 rows x 1 columns]\n"
     ]
    }
   ],
   "source": [
    "data = youtube_scrape(\"https://www.youtube.com/watch?v=bl6Wk_Qr9ds\")\n",
    "wsj = pd.DataFrame(data, columns=['comment'])\n",
    "wsj.to_csv(\"C:/NLP-Midterm/Data/RawData/wjs.csv\", index = False)\n",
    "print(wsj)"
   ]
  },
  {
   "cell_type": "code",
   "execution_count": 4,
   "metadata": {},
   "outputs": [
    {
     "name": "stdout",
     "output_type": "stream",
     "text": [
      "Extracted 589 comments.\n",
      "                                               comment\n",
      "0    Skip navigation\\nSign in\\none of the biggest t...\n",
      "1                                                     \n",
      "2                                                     \n",
      "3                                                     \n",
      "4                                                     \n",
      "..                                                 ...\n",
      "584                        I like Donald Trump welcome\n",
      "585             In the end....what happened to him....\n",
      "586  XAI315K is definitely going to flip bitcoin ma...\n",
      "587  Being that the us is in major debt, we have to...\n",
      "588  He didnt abandon it.  Hahahaha\\nIt was the ric...\n",
      "\n",
      "[589 rows x 1 columns]\n"
     ]
    }
   ],
   "source": [
    "data = youtube_scrape(\"https://www.youtube.com/watch?v=svktRVVNJO8\")\n",
    "wsj1 = pd.DataFrame(data, columns=['comment'])\n",
    "wsj1.to_csv(\"C:/NLP-Midterm/Data/RawData/wsj1.csv\", index = False)\n",
    "print(wsj1)"
   ]
  },
  {
   "cell_type": "code",
   "execution_count": 5,
   "metadata": {},
   "outputs": [
    {
     "name": "stdout",
     "output_type": "stream",
     "text": [
      "Extracted 662 comments.\n",
      "                                               comment\n",
      "0    Skip navigation\\nSign in\\nBut that was just an...\n",
      "1                                                     \n",
      "2                                                     \n",
      "3                                                     \n",
      "4                                                     \n",
      "..                                                 ...\n",
      "657                                             Maggot\n",
      "658                                      Rubbish video\n",
      "659                                                 🇨🇳\n",
      "660                                      Hehe memecoin\n",
      "661               ya US made… so double the price… yay\n",
      "\n",
      "[662 rows x 1 columns]\n"
     ]
    }
   ],
   "source": [
    "data = youtube_scrape(\"https://www.youtube.com/watch?v=C2N6bz-KBX0\")\n",
    "cnn = pd.DataFrame(data, columns=['comment'])\n",
    "cnn.to_csv(\"C:/NLP-Midterm/Data/RawData/cnn.csv\", index = False)\n",
    "print(cnn)"
   ]
  },
  {
   "cell_type": "code",
   "execution_count": 6,
   "metadata": {},
   "outputs": [
    {
     "name": "stdout",
     "output_type": "stream",
     "text": [
      "Extracted 887 comments.\n",
      "                                               comment\n",
      "0    Skip navigation\\nSign in\\nTrump’s former trade...\n",
      "1                                                     \n",
      "2                                                     \n",
      "3                                                     \n",
      "4                                                     \n",
      "..                                                 ...\n",
      "882                                                   \n",
      "883                                             🇨🇳🇨🇳🇨🇳\n",
      "884                                                   \n",
      "885  Simple! 🇺🇸 is not competitive, and resources m...\n",
      "886                                     Get em Donald \n",
      "\n",
      "[887 rows x 1 columns]\n"
     ]
    }
   ],
   "source": [
    "data = youtube_scrape(\"https://www.youtube.com/watch?v=KwUG2bOHqFA\")\n",
    "sixtyminutes = pd.DataFrame(data, columns=['comment'])\n",
    "sixtyminutes.to_csv(\"C:/NLP-Midterm/Data/RawData/sixtyminutes.csv\", index = False)\n",
    "print(sixtyminutes)"
   ]
  },
  {
   "cell_type": "code",
   "execution_count": 7,
   "metadata": {},
   "outputs": [
    {
     "name": "stdout",
     "output_type": "stream",
     "text": [
      "Extracted 141 comments.\n",
      "                                               comment\n",
      "0    Skip navigation\\nSign in\\nAnd one thing that C...\n",
      "1                                                     \n",
      "2                                           Learn more\n",
      "3                                           Learn more\n",
      "4                                                     \n",
      "..                                                 ...\n",
      "136  To the relief of the planet, it seems that the...\n",
      "137  I'm Chinese I beg trump don't do that we need ...\n",
      "138               CCP can't do anything but criticize.\n",
      "139  The economy can actually get better if only th...\n",
      "140                            Why is Tesla left out? \n",
      "\n",
      "[141 rows x 1 columns]\n"
     ]
    }
   ],
   "source": [
    "data = youtube_scrape(\"https://www.youtube.com/watch?v=00LSTJkBGZo\")\n",
    "bloombergTV = pd.DataFrame(data, columns=['comment'])\n",
    "bloombergTV.to_csv(\"C:/NLP-Midterm/Data/RawData/bloombergTV.csv\", index = False)\n",
    "print(bloombergTV)"
   ]
  },
  {
   "cell_type": "code",
   "execution_count": 4,
   "metadata": {},
   "outputs": [
    {
     "name": "stdout",
     "output_type": "stream",
     "text": [
      "Extracted 348 comments.\n",
      "                                               comment\n",
      "0    Skip navigation\\nSign in\\nFree Training\\ngo.pu...\n",
      "1                                                     \n",
      "2                                                     \n",
      "3                                                     \n",
      "4                                                     \n",
      "..                                                 ...\n",
      "343  Don’t look at what happened in Ireland yesterd...\n",
      "344  Canada's cooked. Just make us the 51st state. ...\n",
      "345  Trump's tariffs on imports are aimed at bringi...\n",
      "346                                 Trump Trump Trump \n",
      "347                                               Amen\n",
      "\n",
      "[348 rows x 1 columns]\n"
     ]
    }
   ],
   "source": [
    "data = youtube_scrape(\"https://www.youtube.com/watch?v=0fBpS_4gFKk\")\n",
    "skynews = pd.DataFrame(data, columns=['comment'])\n",
    "skynews.to_csv(\"C:/NLP-Midterm/Data/RawData/skynews.csv\")\n",
    "print(skynews)"
   ]
  },
  {
   "cell_type": "code",
   "execution_count": null,
   "metadata": {},
   "outputs": [
    {
     "name": "stdout",
     "output_type": "stream",
     "text": [
      "Extracted 55 comments.\n"
     ]
    }
   ],
   "source": [
    "data = youtube_scrape(\"https://www.youtube.com/watch?v=nEIhhgI1_og\")\n",
    "wusa9 = pd.DataFrame(data, columns=['comment'])\n",
    "wusa9.to_csv('C:/NLP-Midterm/Data/RawData/wusa9.csv', index = False)\n",
    "print(wusa9)"
   ]
  },
  {
   "cell_type": "code",
   "execution_count": null,
   "metadata": {},
   "outputs": [
    {
     "name": "stdout",
     "output_type": "stream",
     "text": [
      "Extracted 347 comments.\n"
     ]
    }
   ],
   "source": [
    "\n",
    "data = youtube_scrape(\"https://www.youtube.com/watch?v=HJKe_m9CL-0\")\n",
    "\n",
    "\n",
    "dwnews = pd.DataFrame(data, columns=['comment'])\n",
    "\n",
    "dwnews.to_csv('C:/NLP-Midterm/Data/RawData/DW_News_1.csv')\n",
    "print(dwnews)"
   ]
  },
  {
   "cell_type": "code",
   "execution_count": 5,
   "metadata": {},
   "outputs": [
    {
     "name": "stdout",
     "output_type": "stream",
     "text": [
      "Extracted 879 comments.\n",
      "                                               comment\n",
      "0    Skip navigation\\nSign in\\nTrusted, 5-Star Dog ...\n",
      "1                                                     \n",
      "2                                                     \n",
      "3                                                     \n",
      "4                                                     \n",
      "..                                                 ...\n",
      "874                                                   \n",
      "875                                                 no\n",
      "876  What a cheap researcher are you? So many mista...\n",
      "877                                the music is stupid\n",
      "878                                   Err …no actually\n",
      "\n",
      "[879 rows x 1 columns]\n"
     ]
    }
   ],
   "source": [
    "data = youtube_scrape(\"https://www.youtube.com/watch?v=K0V8kZyl1T0&t=1s\")\n",
    "\n",
    "Economics_explained = pd.DataFrame(data, columns=['comment'])\n",
    "print(Economics_explained)\n",
    "Economics_explained.to_csv('C:/NLP-Midterm/Data/RawData/Economics_Explained_comments.csv')"
   ]
  },
  {
   "cell_type": "code",
   "execution_count": 6,
   "metadata": {},
   "outputs": [
    {
     "name": "stdout",
     "output_type": "stream",
     "text": [
      "Extracted 307 comments.\n",
      "                                               comment\n",
      "0    Skip navigation\\nSign in\\nSomething went wrong...\n",
      "1                                                     \n",
      "2                                                     \n",
      "3                                                     \n",
      "4                                                     \n",
      "..                                                 ...\n",
      "302                             Denmark next! Yeah!!!!\n",
      "303                                       I love this!\n",
      "304  In the words of a wise person. \"You should of ...\n",
      "305  What’s annoying is they’ll argue “it will enco...\n",
      "306  You’re talking about avocados but you really s...\n",
      "\n",
      "[307 rows x 1 columns]\n"
     ]
    }
   ],
   "source": [
    "data = youtube_scrape(\"https://www.youtube.com/watch?v=CThkd5Et_mQ\")\n",
    "\n",
    "bbc_news1 = pd.DataFrame(data, columns=['comment'])\n",
    "print(bbc_news1)\n",
    "bbc_news1.to_csv('C:/NLP-Midterm/Data/RawData/bbc_news1.csv')"
   ]
  },
  {
   "cell_type": "code",
   "execution_count": 7,
   "metadata": {},
   "outputs": [
    {
     "name": "stdout",
     "output_type": "stream",
     "text": [
      "Extracted 699 comments.\n",
      "                                               comment\n",
      "0    Skip navigation\\nSign in\\nCanada and Mexico hi...\n",
      "1                                                     \n",
      "2                                                     \n",
      "3                                                     \n",
      "4                                                     \n",
      "..                                                 ...\n",
      "694  It would be so ironic if Trump's tariff plan a...\n",
      "695  Trump Tariff Blues: https://www.youtube.com/wa...\n",
      "696  We The People don’t want anything from another...\n",
      "697    Trump for the win drill baby drill...bbc crying\n",
      "698  Do not modify this clip to say they both buckl...\n",
      "\n",
      "[699 rows x 1 columns]\n"
     ]
    }
   ],
   "source": [
    "data = youtube_scrape(\"https://www.youtube.com/watch?v=BYY32Fna-7M\")\n",
    "\n",
    "bbc_news2 = pd.DataFrame(data, columns=['comment'])\n",
    "print(bbc_news2)\n",
    "bbc_news2.to_csv('C:/NLP-Midterm/Data/RawData/bbc_news2.csv')"
   ]
  },
  {
   "cell_type": "code",
   "execution_count": 8,
   "metadata": {},
   "outputs": [
    {
     "name": "stdout",
     "output_type": "stream",
     "text": [
      "Extracted 112 comments.\n",
      "                                               comment\n",
      "0    Skip navigation\\nSign in\\nWhat will the fallou...\n",
      "1                                                     \n",
      "2                                                     \n",
      "3                                                     \n",
      "4                                                     \n",
      "..                                                 ...\n",
      "107                                                   \n",
      "108                                    Trump is great \n",
      "109                                 Dats my president \n",
      "110                                              Trump\n",
      "111                                        .\\nGrow up.\n",
      "\n",
      "[112 rows x 1 columns]\n"
     ]
    }
   ],
   "source": [
    "data = youtube_scrape(\"https://www.youtube.com/watch?v=w4q2CMcWjKk\")\n",
    "\n",
    "bbc_news3 = pd.DataFrame(data, columns=['comment'])\n",
    "print(bbc_news3)\n",
    "bbc_news3.to_csv('C:/NLP-Midterm/Data/RawData/bbc_news3.csv')"
   ]
  },
  {
   "cell_type": "code",
   "execution_count": 10,
   "metadata": {},
   "outputs": [
    {
     "name": "stdout",
     "output_type": "stream",
     "text": [
      "Extracted 412 comments.\n",
      "                                               comment\n",
      "0    Skip navigation\\nSign in\\nUp next in 8\\n6:22\\n...\n",
      "1                                                     \n",
      "2                                                     \n",
      "3                                                     \n",
      "4                                                     \n",
      "..                                                 ...\n",
      "407  This man is straight up single handed saving t...\n",
      "408  Here goes new cars up 25%, good job on that in...\n",
      "409  He got us in this neverending inflation game a...\n",
      "410  Avocado toast is the average millenial breakfa...\n",
      "411                                              Great\n",
      "\n",
      "[412 rows x 1 columns]\n"
     ]
    }
   ],
   "source": [
    "data = youtube_scrape(\"https://www.youtube.com/watch?v=hsEzMJctjgE\")\n",
    "\n",
    "forbes = pd.DataFrame(data, columns=['comment'])\n",
    "print(forbes)\n",
    "forbes.to_csv('C:/NLP-Midterm/Data/RawData/forbes.csv')"
   ]
  },
  {
   "cell_type": "code",
   "execution_count": 11,
   "metadata": {},
   "outputs": [
    {
     "name": "stdout",
     "output_type": "stream",
     "text": [
      "Extracted 456 comments.\n",
      "                                               comment\n",
      "0    Skip navigation\\nSign in\\nUp next in 8\\n9:51\\n...\n",
      "1                                                     \n",
      "2                                                     \n",
      "3                                                     \n",
      "4                                                     \n",
      "..                                                 ...\n",
      "451                                                 =)\n",
      "452                                           Hahahaha\n",
      "453                                           He wont!\n",
      "454  Liberals are gonna focus on the short term goa...\n",
      "455  You know it’s sad when America’s broke going a...\n",
      "\n",
      "[456 rows x 1 columns]\n"
     ]
    }
   ],
   "source": [
    "data = youtube_scrape(\"https://www.youtube.com/watch?v=LFLQFqdAl4U\")\n",
    "\n",
    "forbes1 = pd.DataFrame(data, columns=['comment'])\n",
    "print(forbes1)\n",
    "forbes1.to_csv('C:/NLP-Midterm/Data/RawData/forbes1.csv')"
   ]
  },
  {
   "cell_type": "code",
   "execution_count": 13,
   "metadata": {},
   "outputs": [
    {
     "name": "stdout",
     "output_type": "stream",
     "text": [
      "Extracted 47 comments.\n",
      "                                              comment\n",
      "0   Skip navigation\\nSign in\\nUp next in 8\\n12:34\\...\n",
      "1                                                    \n",
      "2                                                    \n",
      "3                                                    \n",
      "4                                                    \n",
      "5                                                    \n",
      "6                                                    \n",
      "7                   Japan is a true respectable ally.\n",
      "8   Damn, those Toyotas are gonna be expensive as ...\n",
      "9   \"Um, I'd never say that to his face, I'll do i...\n",
      "10  These mutual tariffs between countries are bas...\n",
      "11  i like to imagine the Japanese PM was doing li...\n",
      "12  Reciprocal negotiated tariffs are called fair ...\n",
      "13               No tariffs on anime and manga please\n",
      "14  We love Japan because they are respectfully ra...\n",
      "15                        Japan is a treasured ally! \n",
      "16  \"if everyone is charged tariffs then no one is...\n",
      "17  That gentleman just lost his seat to a Podcast...\n",
      "18  Tariffs are a tax on American businesses that ...\n",
      "19  Having spent time in Japan from the military i...\n",
      "20  Tariffs on both sides, so consumers will pay m...\n",
      "21  \"I've known him for a long time through reputa...\n",
      "22  The prime minister of Japan looks like a Yakuz...\n",
      "23  Japan and U.S. are ride or die partners.\\n\\nGr...\n",
      "24  Trump: we gonna put tariffs on Japan \\nJapan b...\n",
      "25              Japan and the USA are strong together\n",
      "26         im surprised he didnt try a Hiroshima joke\n",
      "27  We love the Japanese people. Most Americans wa...\n",
      "28  It seems that Japanese media are the only repo...\n",
      "29  The prime minister was not laughing and look l...\n",
      "30  “Head on the chopping block.” Goes a bit harde...\n",
      "31  So we’re just gonna raise prices globally caus...\n",
      "32  If You have reciprocal tariffs...what's the ga...\n",
      "33  Why would you try to antagonist your own presi...\n",
      "34  Homer Simpson as president.\\n\\n“ I thought a t...\n",
      "35  “We charge them, they charge us. Very fair. No...\n",
      "36  Please don’t because I’ve been getting into co...\n",
      "37  Has what happened to Abe ever been fully inves...\n",
      "38  One of the things that runs counterintuitively...\n",
      "39  Tariffs are not the only means of trade distor...\n",
      "40  No Tariffs on anything Japanese related please...\n",
      "41               Translation: Strong man pay tariffs.\n",
      "42                                             Huh???\n",
      "43  If tariff’s are reciprocal, why have them at all.\n",
      "44  As a Navy veteran who was stationed in Japan f...\n",
      "45    Hey look trump learned a new word, reciprocal .\n",
      "46  Does Trump think applying tariffs is the only ...\n"
     ]
    }
   ],
   "source": [
    "data = youtube_scrape(\"https://www.youtube.com/watch?v=k2ZcJncmrUI\")\n",
    "\n",
    "forbes2 = pd.DataFrame(data, columns=['comment'])\n",
    "print(forbes2)\n",
    "forbes2.to_csv('C:/NLP-Midterm/Data/RawData/forbes2.csv')"
   ]
  },
  {
   "cell_type": "code",
   "execution_count": 16,
   "metadata": {},
   "outputs": [
    {
     "name": "stdout",
     "output_type": "stream",
     "text": [
      "Extracted 83 comments.\n",
      "                                              comment\n",
      "0   Skip navigation\\nSign in\\nUp next in 8\\n29:37\\...\n",
      "1                                                    \n",
      "2                                                    \n",
      "3                                                    \n",
      "4                                                    \n",
      "..                                                ...\n",
      "78            Americans are getting big tax increases\n",
      "79  February 9th, Gulf of America Day !  February ...\n",
      "80  does Forbes even read the titles of videos the...\n",
      "81                       Rah, Rah,  President Trump ️\n",
      "82               The dumbest US president in history \n",
      "\n",
      "[83 rows x 1 columns]\n"
     ]
    }
   ],
   "source": [
    "data = youtube_scrape(\"https://www.youtube.com/watch?v=6iiUlN9t7IA\")\n",
    "\n",
    "forbes3 = pd.DataFrame(data, columns=['comment'])\n",
    "print(forbes3)\n",
    "forbes3.to_csv('C:/NLP-Midterm/Data/RawData/forbes3.csv')"
   ]
  },
  {
   "cell_type": "code",
   "execution_count": 17,
   "metadata": {},
   "outputs": [
    {
     "name": "stdout",
     "output_type": "stream",
     "text": [
      "Extracted 680 comments.\n",
      "                                               comment\n",
      "0    Skip navigation\\nSign in\\nCANADIANS ARE PERPLE...\n",
      "1                                                     \n",
      "2                                                     \n",
      "3                                                     \n",
      "4                                                     \n",
      "..                                                 ...\n",
      "675                                    Heheheeeeee!!!!\n",
      "676  Canada and Mexico aren't playing correctly.  I...\n",
      "677  You are welcome to become our 51st state  come...\n",
      "678   Trump Train Wrecking the US Economy.  Ha ha ha..\n",
      "679  Yes we gona lower. Food prices.meanwhile trump...\n",
      "\n",
      "[680 rows x 1 columns]\n"
     ]
    }
   ],
   "source": [
    "data = youtube_scrape(\"https://www.youtube.com/watch?v=sgMqL05yBqs\")\n",
    "\n",
    "fox1 = pd.DataFrame(data, columns=['comment'])\n",
    "print(fox1)\n",
    "fox1.to_csv('C:/NLP-Midterm/Data/RawData/fox1.csv')"
   ]
  },
  {
   "cell_type": "code",
   "execution_count": 18,
   "metadata": {},
   "outputs": [
    {
     "name": "stdout",
     "output_type": "stream",
     "text": [
      "Extracted 260 comments.\n",
      "                                               comment\n",
      "0    Skip navigation\\nSign in\\nTODAY WERE HILARIOUS...\n",
      "1                                                     \n",
      "2                          Claim Your 50% Off\\nBuy now\n",
      "3                          Claim Your 50% Off\\nBuy now\n",
      "4                                                     \n",
      "..                                                 ...\n",
      "255  I am at the beginning of my \"investment journe...\n",
      "256  Canadians need to be reminded that the Canada ...\n",
      "257        This tariff idiocy will be trumps downfall.\n",
      "258  HMMM! P Navarro!  Another former CNBC contribu...\n",
      "259  SUPER STAR  ELON MUSK     & SON\\n SUPER STAR  ...\n",
      "\n",
      "[260 rows x 1 columns]\n"
     ]
    }
   ],
   "source": [
    "data = youtube_scrape(\"https://www.youtube.com/watch?v=SLNj2wImkSw\")\n",
    "\n",
    "fox2 = pd.DataFrame(data, columns=['comment'])\n",
    "print(fox2)\n",
    "fox2.to_csv('C:/NLP-Midterm/Data/RawData/fox2.csv')"
   ]
  },
  {
   "cell_type": "code",
   "execution_count": 19,
   "metadata": {},
   "outputs": [
    {
     "name": "stdout",
     "output_type": "stream",
     "text": [
      "Extracted 47 comments.\n",
      "                                              comment\n",
      "0   Skip navigation\\nSign in\\nAND EXCHANGE RATES, ...\n",
      "1                                                    \n",
      "2                                                    \n",
      "3                                                    \n",
      "4                                                    \n",
      "5                                                    \n",
      "6                                                    \n",
      "7                         He's off his Tariff Rocker.\n",
      "8            Reciprocal?  He started this tariff war!\n",
      "9   “The narcissist enjoys being fed attention, wh...\n",
      "10                         Reciprocal? He started it!\n",
      "11                                This is a DISASTER.\n",
      "12  Quietly, in Canada, US manufactured goods are ...\n",
      "13  The EU has ZERO tariffs on the USA.\\nBut we wi...\n",
      "14  Stop calling these reciprocal tariffs, they ar...\n",
      "15  This helps us how? Each country we have bullie...\n",
      "16                 The groceries are already so high.\n",
      "17               DEAR LORD, WHY HAVE YOU FORSAKEN US?\n",
      "18  These people don’t have to worry about the pri...\n",
      "19  You know, the problem is really not about havi...\n",
      "20  So, the prices might go up in the short term.....\n",
      "21  If the rest of the world imposes tariffs on th...\n",
      "22  You need to clarify that VAT is applied to all...\n",
      "23  Is there no one intelligent and brave enough t...\n",
      "24                       Trumpflation comin' at ya!!!\n",
      "25  Keep threaten tariff to other countries. Ameri...\n",
      "26  The markets seem to think this is some sort of...\n",
      "27         Trump was wrong. Im not tired of winning. \n",
      "28  EU VAT are the equivalent to the sales taxes w...\n",
      "29  There are 160 countries, then 159 should deal ...\n",
      "30  Trump will raise prices across the board,affec...\n",
      "31  Trump is pleading for no trade. Give him what ...\n",
      "32  >Keep the following in mind. These tariffs are...\n",
      "33  I hope Trump forces other countries to recipro...\n",
      "34              Nice! This will bring down inflation!\n",
      "35  My… Bloomberg is so excited about money and ri...\n",
      "36    THE PRICES ON EACH TARIFFS ITEM WILL BE GO UP ️\n",
      "37  Oh im sorry. Are we suppose to know what recip...\n",
      "38  The US Nimitz-class aircraft carrier USS Harry...\n",
      "39        He needs to check with his BOSS Elon first.\n",
      "40  People know what reciprocal means. And you got...\n",
      "41  What does Bloomberg know about life… so excite...\n",
      "42  Amrican poset all presnale so no one good hidd...\n",
      "43                   Daddy’s got this. USA USA USA 🇺🇸\n",
      "44  Jornaliest qulitiy\\nJornaliest profuser\\nJorna...\n",
      "45  America has the lowest trade/gdp ratio of any ...\n",
      "46  Here is the problem for Americans who do no re...\n"
     ]
    }
   ],
   "source": [
    "data = youtube_scrape(\"https://www.youtube.com/watch?v=1wZmM_av6VQ\")\n",
    "\n",
    "bloombergTV1 = pd.DataFrame(data, columns=['comment'])\n",
    "print(bloombergTV1)\n",
    "bloombergTV1.to_csv('C:/NLP-Midterm/Data/RawData/bloombergTV1.csv')"
   ]
  }
 ],
 "metadata": {
  "kernelspec": {
   "display_name": "ML-AI-Courses",
   "language": "python",
   "name": "python3"
  },
  "language_info": {
   "codemirror_mode": {
    "name": "ipython",
    "version": 3
   },
   "file_extension": ".py",
   "mimetype": "text/x-python",
   "name": "python",
   "nbconvert_exporter": "python",
   "pygments_lexer": "ipython3",
   "version": "3.12.7"
  }
 },
 "nbformat": 4,
 "nbformat_minor": 2
}
