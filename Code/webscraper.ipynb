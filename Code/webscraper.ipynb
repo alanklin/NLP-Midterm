{
 "cells": [
  {
   "cell_type": "code",
   "execution_count": null,
   "metadata": {},
   "outputs": [],
   "source": [
    "\n",
    "import time\n",
    "from selenium import webdriver\n",
    "from selenium.webdriver.chrome.service import Service\n",
    "from selenium.webdriver.common.by import By\n",
    "from selenium.webdriver.common.keys import Keys\n",
    "from selenium.webdriver.support.ui import WebDriverWait\n",
    "from selenium.webdriver.support import expected_conditions as EC\n",
    "from selenium.webdriver.chrome.options import Options\n",
    "\n",
    "import pandas as pd\n"
   ]
  },
  {
   "cell_type": "code",
   "execution_count": 3,
   "metadata": {},
   "outputs": [],
   "source": [
    "# Path to ChromeDriver\n",
    "chrome_driver_path = r'C:\\Program Files\\chromedriver.exe'"
   ]
  },
  {
   "cell_type": "code",
   "execution_count": 9,
   "metadata": {},
   "outputs": [],
   "source": [
    "chrome_options = Options()\n",
    "chrome_options.add_argument(\"--headless\")  # Run in headless mode\n",
    "\n",
    "def youtube_scrape(url):\n",
    "\n",
    "    # service = Service(chrome_driver_path)\n",
    "    # driver = webdriver.Chrome(service=service)\n",
    "\n",
    "    driver = webdriver.Chrome(options=chrome_options)\n",
    "\n",
    "    try:\n",
    "        data = []\n",
    "        youtube_video_url = url\n",
    "\n",
    "        wait = WebDriverWait(driver, 15)\n",
    "        driver.get(youtube_video_url)\n",
    "\n",
    "        # Scroll down to load comments\n",
    "        for _ in range(200):\n",
    "            wait.until(EC.visibility_of_element_located((By.TAG_NAME, \"body\"))).send_keys(Keys.END)\n",
    "            time.sleep(2)  # Reduce sleep time for efficiency\n",
    "\n",
    "        # Extract comments\n",
    "        for comment in wait.until(EC.presence_of_all_elements_located((By.CSS_SELECTOR, \"#content\"))):\n",
    "            data.append(comment.text)\n",
    "\n",
    "        print(f\"Extracted {len(data)} comments.\")\n",
    "\n",
    "    finally:\n",
    "        driver.quit()  # Ensure driver quits properly\n",
    "        return data"
   ]
  },
  {
   "cell_type": "code",
   "execution_count": null,
   "metadata": {},
   "outputs": [
    {
     "ename": "NoSuchDriverException",
     "evalue": "Message: Unable to obtain driver for chrome; For documentation on this error, please visit: https://www.selenium.dev/documentation/webdriver/troubleshooting/errors/driver_location\n",
     "output_type": "error",
     "traceback": [
      "\u001b[1;31m---------------------------------------------------------------------------\u001b[0m",
      "\u001b[1;31mValueError\u001b[0m                                Traceback (most recent call last)",
      "File \u001b[1;32mc:\\Users\\Trevo\\anaconda3\\envs\\predAn\\Lib\\site-packages\\selenium\\webdriver\\common\\driver_finder.py:64\u001b[0m, in \u001b[0;36mDriverFinder._binary_paths\u001b[1;34m(self)\u001b[0m\n\u001b[0;32m     63\u001b[0m \u001b[38;5;28;01mif\u001b[39;00m \u001b[38;5;129;01mnot\u001b[39;00m Path(path)\u001b[38;5;241m.\u001b[39mis_file():\n\u001b[1;32m---> 64\u001b[0m     \u001b[38;5;28;01mraise\u001b[39;00m \u001b[38;5;167;01mValueError\u001b[39;00m(\u001b[38;5;124mf\u001b[39m\u001b[38;5;124m\"\u001b[39m\u001b[38;5;124mThe path is not a valid file: \u001b[39m\u001b[38;5;132;01m{\u001b[39;00mpath\u001b[38;5;132;01m}\u001b[39;00m\u001b[38;5;124m\"\u001b[39m)\n\u001b[0;32m     65\u001b[0m \u001b[38;5;28mself\u001b[39m\u001b[38;5;241m.\u001b[39m_paths[\u001b[38;5;124m\"\u001b[39m\u001b[38;5;124mdriver_path\u001b[39m\u001b[38;5;124m\"\u001b[39m] \u001b[38;5;241m=\u001b[39m path\n",
      "\u001b[1;31mValueError\u001b[0m: The path is not a valid file: C:\\Program Files\\chromedriver.exe",
      "\nThe above exception was the direct cause of the following exception:\n",
      "\u001b[1;31mNoSuchDriverException\u001b[0m                     Traceback (most recent call last)",
      "Cell \u001b[1;32mIn[5], line 1\u001b[0m\n\u001b[1;32m----> 1\u001b[0m data \u001b[38;5;241m=\u001b[39m \u001b[43myoutube_scrape\u001b[49m\u001b[43m(\u001b[49m\u001b[38;5;124;43m\"\u001b[39;49m\u001b[38;5;124;43mhttps://www.youtube.com/watch?v=9U2y4s3uOkM\u001b[39;49m\u001b[38;5;124;43m\"\u001b[39;49m\u001b[43m)\u001b[49m\n\u001b[0;32m      2\u001b[0m wsj \u001b[38;5;241m=\u001b[39m pd\u001b[38;5;241m.\u001b[39mDataFrame(data, columns\u001b[38;5;241m=\u001b[39m[\u001b[38;5;124m'\u001b[39m\u001b[38;5;124mcomment\u001b[39m\u001b[38;5;124m'\u001b[39m])\n\u001b[0;32m      3\u001b[0m wsj\u001b[38;5;241m.\u001b[39mto_csv(\u001b[38;5;124m\"\u001b[39m\u001b[38;5;124mC:/NLP-Midterm/Data/RawData/wjs.csv\u001b[39m\u001b[38;5;124m\"\u001b[39m, index \u001b[38;5;241m=\u001b[39m \u001b[38;5;28;01mFalse\u001b[39;00m)\n",
      "Cell \u001b[1;32mIn[4], line 4\u001b[0m, in \u001b[0;36myoutube_scrape\u001b[1;34m(url)\u001b[0m\n\u001b[0;32m      1\u001b[0m \u001b[38;5;28;01mdef\u001b[39;00m \u001b[38;5;21myoutube_scrape\u001b[39m(url):\n\u001b[0;32m      3\u001b[0m     service \u001b[38;5;241m=\u001b[39m Service(chrome_driver_path)\n\u001b[1;32m----> 4\u001b[0m     driver \u001b[38;5;241m=\u001b[39m \u001b[43mwebdriver\u001b[49m\u001b[38;5;241;43m.\u001b[39;49m\u001b[43mChrome\u001b[49m\u001b[43m(\u001b[49m\u001b[43mservice\u001b[49m\u001b[38;5;241;43m=\u001b[39;49m\u001b[43mservice\u001b[49m\u001b[43m)\u001b[49m\n\u001b[0;32m      6\u001b[0m     \u001b[38;5;28;01mtry\u001b[39;00m:\n\u001b[0;32m      7\u001b[0m         data \u001b[38;5;241m=\u001b[39m []\n",
      "File \u001b[1;32mc:\\Users\\Trevo\\anaconda3\\envs\\predAn\\Lib\\site-packages\\selenium\\webdriver\\chrome\\webdriver.py:45\u001b[0m, in \u001b[0;36mWebDriver.__init__\u001b[1;34m(self, options, service, keep_alive)\u001b[0m\n\u001b[0;32m     42\u001b[0m service \u001b[38;5;241m=\u001b[39m service \u001b[38;5;28;01mif\u001b[39;00m service \u001b[38;5;28;01melse\u001b[39;00m Service()\n\u001b[0;32m     43\u001b[0m options \u001b[38;5;241m=\u001b[39m options \u001b[38;5;28;01mif\u001b[39;00m options \u001b[38;5;28;01melse\u001b[39;00m Options()\n\u001b[1;32m---> 45\u001b[0m \u001b[38;5;28;43msuper\u001b[39;49m\u001b[43m(\u001b[49m\u001b[43m)\u001b[49m\u001b[38;5;241;43m.\u001b[39;49m\u001b[38;5;21;43m__init__\u001b[39;49m\u001b[43m(\u001b[49m\n\u001b[0;32m     46\u001b[0m \u001b[43m    \u001b[49m\u001b[43mbrowser_name\u001b[49m\u001b[38;5;241;43m=\u001b[39;49m\u001b[43mDesiredCapabilities\u001b[49m\u001b[38;5;241;43m.\u001b[39;49m\u001b[43mCHROME\u001b[49m\u001b[43m[\u001b[49m\u001b[38;5;124;43m\"\u001b[39;49m\u001b[38;5;124;43mbrowserName\u001b[39;49m\u001b[38;5;124;43m\"\u001b[39;49m\u001b[43m]\u001b[49m\u001b[43m,\u001b[49m\n\u001b[0;32m     47\u001b[0m \u001b[43m    \u001b[49m\u001b[43mvendor_prefix\u001b[49m\u001b[38;5;241;43m=\u001b[39;49m\u001b[38;5;124;43m\"\u001b[39;49m\u001b[38;5;124;43mgoog\u001b[39;49m\u001b[38;5;124;43m\"\u001b[39;49m\u001b[43m,\u001b[49m\n\u001b[0;32m     48\u001b[0m \u001b[43m    \u001b[49m\u001b[43moptions\u001b[49m\u001b[38;5;241;43m=\u001b[39;49m\u001b[43moptions\u001b[49m\u001b[43m,\u001b[49m\n\u001b[0;32m     49\u001b[0m \u001b[43m    \u001b[49m\u001b[43mservice\u001b[49m\u001b[38;5;241;43m=\u001b[39;49m\u001b[43mservice\u001b[49m\u001b[43m,\u001b[49m\n\u001b[0;32m     50\u001b[0m \u001b[43m    \u001b[49m\u001b[43mkeep_alive\u001b[49m\u001b[38;5;241;43m=\u001b[39;49m\u001b[43mkeep_alive\u001b[49m\u001b[43m,\u001b[49m\n\u001b[0;32m     51\u001b[0m \u001b[43m\u001b[49m\u001b[43m)\u001b[49m\n",
      "File \u001b[1;32mc:\\Users\\Trevo\\anaconda3\\envs\\predAn\\Lib\\site-packages\\selenium\\webdriver\\chromium\\webdriver.py:50\u001b[0m, in \u001b[0;36mChromiumDriver.__init__\u001b[1;34m(self, browser_name, vendor_prefix, options, service, keep_alive)\u001b[0m\n\u001b[0;32m     47\u001b[0m \u001b[38;5;28mself\u001b[39m\u001b[38;5;241m.\u001b[39mservice \u001b[38;5;241m=\u001b[39m service\n\u001b[0;32m     49\u001b[0m finder \u001b[38;5;241m=\u001b[39m DriverFinder(\u001b[38;5;28mself\u001b[39m\u001b[38;5;241m.\u001b[39mservice, options)\n\u001b[1;32m---> 50\u001b[0m \u001b[38;5;28;01mif\u001b[39;00m \u001b[43mfinder\u001b[49m\u001b[38;5;241;43m.\u001b[39;49m\u001b[43mget_browser_path\u001b[49m\u001b[43m(\u001b[49m\u001b[43m)\u001b[49m:\n\u001b[0;32m     51\u001b[0m     options\u001b[38;5;241m.\u001b[39mbinary_location \u001b[38;5;241m=\u001b[39m finder\u001b[38;5;241m.\u001b[39mget_browser_path()\n\u001b[0;32m     52\u001b[0m     options\u001b[38;5;241m.\u001b[39mbrowser_version \u001b[38;5;241m=\u001b[39m \u001b[38;5;28;01mNone\u001b[39;00m\n",
      "File \u001b[1;32mc:\\Users\\Trevo\\anaconda3\\envs\\predAn\\Lib\\site-packages\\selenium\\webdriver\\common\\driver_finder.py:47\u001b[0m, in \u001b[0;36mDriverFinder.get_browser_path\u001b[1;34m(self)\u001b[0m\n\u001b[0;32m     46\u001b[0m \u001b[38;5;28;01mdef\u001b[39;00m \u001b[38;5;21mget_browser_path\u001b[39m(\u001b[38;5;28mself\u001b[39m) \u001b[38;5;241m-\u001b[39m\u001b[38;5;241m>\u001b[39m \u001b[38;5;28mstr\u001b[39m:\n\u001b[1;32m---> 47\u001b[0m     \u001b[38;5;28;01mreturn\u001b[39;00m \u001b[38;5;28;43mself\u001b[39;49m\u001b[38;5;241;43m.\u001b[39;49m\u001b[43m_binary_paths\u001b[49m\u001b[43m(\u001b[49m\u001b[43m)\u001b[49m[\u001b[38;5;124m\"\u001b[39m\u001b[38;5;124mbrowser_path\u001b[39m\u001b[38;5;124m\"\u001b[39m]\n",
      "File \u001b[1;32mc:\\Users\\Trevo\\anaconda3\\envs\\predAn\\Lib\\site-packages\\selenium\\webdriver\\common\\driver_finder.py:78\u001b[0m, in \u001b[0;36mDriverFinder._binary_paths\u001b[1;34m(self)\u001b[0m\n\u001b[0;32m     76\u001b[0m \u001b[38;5;28;01mexcept\u001b[39;00m \u001b[38;5;167;01mException\u001b[39;00m \u001b[38;5;28;01mas\u001b[39;00m err:\n\u001b[0;32m     77\u001b[0m     msg \u001b[38;5;241m=\u001b[39m \u001b[38;5;124mf\u001b[39m\u001b[38;5;124m\"\u001b[39m\u001b[38;5;124mUnable to obtain driver for \u001b[39m\u001b[38;5;132;01m{\u001b[39;00mbrowser\u001b[38;5;132;01m}\u001b[39;00m\u001b[38;5;124m\"\u001b[39m\n\u001b[1;32m---> 78\u001b[0m     \u001b[38;5;28;01mraise\u001b[39;00m NoSuchDriverException(msg) \u001b[38;5;28;01mfrom\u001b[39;00m \u001b[38;5;21;01merr\u001b[39;00m\n\u001b[0;32m     79\u001b[0m \u001b[38;5;28;01mreturn\u001b[39;00m \u001b[38;5;28mself\u001b[39m\u001b[38;5;241m.\u001b[39m_paths\n",
      "\u001b[1;31mNoSuchDriverException\u001b[0m: Message: Unable to obtain driver for chrome; For documentation on this error, please visit: https://www.selenium.dev/documentation/webdriver/troubleshooting/errors/driver_location\n"
     ]
    }
   ],
   "source": [
    "data = youtube_scrape(\"https://www.youtube.com/watch?v=bl6Wk_Qr9ds\")\n",
    "wsj = pd.DataFrame(data, columns=['comment'])\n",
    "wsj.to_csv(\"C:/NLP-Midterm/Data/RawData/wjs.csv\", index = False)\n",
    "print(wsj)"
   ]
  },
  {
   "cell_type": "code",
   "execution_count": 4,
   "metadata": {},
   "outputs": [
    {
     "name": "stdout",
     "output_type": "stream",
     "text": [
      "Extracted 589 comments.\n",
      "                                               comment\n",
      "0    Skip navigation\\nSign in\\none of the biggest t...\n",
      "1                                                     \n",
      "2                                                     \n",
      "3                                                     \n",
      "4                                                     \n",
      "..                                                 ...\n",
      "584                        I like Donald Trump welcome\n",
      "585             In the end....what happened to him....\n",
      "586  XAI315K is definitely going to flip bitcoin ma...\n",
      "587  Being that the us is in major debt, we have to...\n",
      "588  He didnt abandon it.  Hahahaha\\nIt was the ric...\n",
      "\n",
      "[589 rows x 1 columns]\n"
     ]
    }
   ],
   "source": [
    "data = youtube_scrape(\"https://www.youtube.com/watch?v=svktRVVNJO8\")\n",
    "wsj1 = pd.DataFrame(data, columns=['comment'])\n",
    "wsj1.to_csv(\"C:/NLP-Midterm/Data/RawData/wsj1.csv\", index = False)\n",
    "print(wsj1)"
   ]
  },
  {
   "cell_type": "code",
   "execution_count": 5,
   "metadata": {},
   "outputs": [
    {
     "name": "stdout",
     "output_type": "stream",
     "text": [
      "Extracted 662 comments.\n",
      "                                               comment\n",
      "0    Skip navigation\\nSign in\\nBut that was just an...\n",
      "1                                                     \n",
      "2                                                     \n",
      "3                                                     \n",
      "4                                                     \n",
      "..                                                 ...\n",
      "657                                             Maggot\n",
      "658                                      Rubbish video\n",
      "659                                                 🇨🇳\n",
      "660                                      Hehe memecoin\n",
      "661               ya US made… so double the price… yay\n",
      "\n",
      "[662 rows x 1 columns]\n"
     ]
    }
   ],
   "source": [
    "data = youtube_scrape(\"https://www.youtube.com/watch?v=C2N6bz-KBX0\")\n",
    "cnn = pd.DataFrame(data, columns=['comment'])\n",
    "cnn.to_csv(\"C:/NLP-Midterm/Data/RawData/cnn.csv\", index = False)\n",
    "print(cnn)"
   ]
  },
  {
   "cell_type": "code",
   "execution_count": 6,
   "metadata": {},
   "outputs": [
    {
     "name": "stdout",
     "output_type": "stream",
     "text": [
      "Extracted 887 comments.\n",
      "                                               comment\n",
      "0    Skip navigation\\nSign in\\nTrump’s former trade...\n",
      "1                                                     \n",
      "2                                                     \n",
      "3                                                     \n",
      "4                                                     \n",
      "..                                                 ...\n",
      "882                                                   \n",
      "883                                             🇨🇳🇨🇳🇨🇳\n",
      "884                                                   \n",
      "885  Simple! 🇺🇸 is not competitive, and resources m...\n",
      "886                                     Get em Donald \n",
      "\n",
      "[887 rows x 1 columns]\n"
     ]
    }
   ],
   "source": [
    "data = youtube_scrape(\"https://www.youtube.com/watch?v=KwUG2bOHqFA\")\n",
    "sixtyminutes = pd.DataFrame(data, columns=['comment'])\n",
    "sixtyminutes.to_csv(\"C:/NLP-Midterm/Data/RawData/sixtyminutes.csv\", index = False)\n",
    "print(sixtyminutes)"
   ]
  },
  {
   "cell_type": "code",
   "execution_count": 7,
   "metadata": {},
   "outputs": [
    {
     "name": "stdout",
     "output_type": "stream",
     "text": [
      "Extracted 141 comments.\n",
      "                                               comment\n",
      "0    Skip navigation\\nSign in\\nAnd one thing that C...\n",
      "1                                                     \n",
      "2                                           Learn more\n",
      "3                                           Learn more\n",
      "4                                                     \n",
      "..                                                 ...\n",
      "136  To the relief of the planet, it seems that the...\n",
      "137  I'm Chinese I beg trump don't do that we need ...\n",
      "138               CCP can't do anything but criticize.\n",
      "139  The economy can actually get better if only th...\n",
      "140                            Why is Tesla left out? \n",
      "\n",
      "[141 rows x 1 columns]\n"
     ]
    }
   ],
   "source": [
    "data = youtube_scrape(\"https://www.youtube.com/watch?v=00LSTJkBGZo\")\n",
    "bloombergTV = pd.DataFrame(data, columns=['comment'])\n",
    "bloombergTV.to_csv(\"C:/NLP-Midterm/Data/RawData/bloombergTV.csv\", index = False)\n",
    "print(bloombergTV)"
   ]
  },
  {
   "cell_type": "code",
   "execution_count": 4,
   "metadata": {},
   "outputs": [
    {
     "name": "stdout",
     "output_type": "stream",
     "text": [
      "Extracted 348 comments.\n",
      "                                               comment\n",
      "0    Skip navigation\\nSign in\\nFree Training\\ngo.pu...\n",
      "1                                                     \n",
      "2                                                     \n",
      "3                                                     \n",
      "4                                                     \n",
      "..                                                 ...\n",
      "343  Don’t look at what happened in Ireland yesterd...\n",
      "344  Canada's cooked. Just make us the 51st state. ...\n",
      "345  Trump's tariffs on imports are aimed at bringi...\n",
      "346                                 Trump Trump Trump \n",
      "347                                               Amen\n",
      "\n",
      "[348 rows x 1 columns]\n"
     ]
    }
   ],
   "source": [
    "data = youtube_scrape(\"https://www.youtube.com/watch?v=0fBpS_4gFKk\")\n",
    "skynews = pd.DataFrame(data, columns=['comment'])\n",
    "skynews.to_csv(\"C:/NLP-Midterm/Data/RawData/skynews.csv\")\n",
    "print(skynews)"
   ]
  },
  {
   "cell_type": "code",
   "execution_count": null,
   "metadata": {},
   "outputs": [
    {
     "name": "stdout",
     "output_type": "stream",
     "text": [
      "Extracted 55 comments.\n"
     ]
    }
   ],
   "source": [
    "data = youtube_scrape(\"https://www.youtube.com/watch?v=nEIhhgI1_og\")\n",
    "wusa9 = pd.DataFrame(data, columns=['comment'])\n",
    "wusa9.to_csv('C:/NLP-Midterm/Data/RawData/wusa9.csv', index = False)\n",
    "print(wusa9)"
   ]
  },
  {
   "cell_type": "code",
   "execution_count": null,
   "metadata": {},
   "outputs": [
    {
     "name": "stdout",
     "output_type": "stream",
     "text": [
      "Extracted 347 comments.\n"
     ]
    }
   ],
   "source": [
    "\n",
    "data = youtube_scrape(\"https://www.youtube.com/watch?v=HJKe_m9CL-0\")\n",
    "\n",
    "\n",
    "dwnews = pd.DataFrame(data, columns=['comment'])\n",
    "\n",
    "dwnews.to_csv('C:/NLP-Midterm/Data/RawData/DW_News_1.csv')\n",
    "print(dwnews)"
   ]
  },
  {
   "cell_type": "code",
   "execution_count": 5,
   "metadata": {},
   "outputs": [
    {
     "name": "stdout",
     "output_type": "stream",
     "text": [
      "Extracted 879 comments.\n",
      "                                               comment\n",
      "0    Skip navigation\\nSign in\\nTrusted, 5-Star Dog ...\n",
      "1                                                     \n",
      "2                                                     \n",
      "3                                                     \n",
      "4                                                     \n",
      "..                                                 ...\n",
      "874                                                   \n",
      "875                                                 no\n",
      "876  What a cheap researcher are you? So many mista...\n",
      "877                                the music is stupid\n",
      "878                                   Err …no actually\n",
      "\n",
      "[879 rows x 1 columns]\n"
     ]
    }
   ],
   "source": [
    "data = youtube_scrape(\"https://www.youtube.com/watch?v=K0V8kZyl1T0&t=1s\")\n",
    "\n",
    "Economics_explained = pd.DataFrame(data, columns=['comment'])\n",
    "print(Economics_explained)\n",
    "Economics_explained.to_csv('C:/NLP-Midterm/Data/RawData/Economics_Explained_comments.csv')"
   ]
  },
  {
   "cell_type": "code",
   "execution_count": 6,
   "metadata": {},
   "outputs": [
    {
     "name": "stdout",
     "output_type": "stream",
     "text": [
      "Extracted 307 comments.\n",
      "                                               comment\n",
      "0    Skip navigation\\nSign in\\nSomething went wrong...\n",
      "1                                                     \n",
      "2                                                     \n",
      "3                                                     \n",
      "4                                                     \n",
      "..                                                 ...\n",
      "302                             Denmark next! Yeah!!!!\n",
      "303                                       I love this!\n",
      "304  In the words of a wise person. \"You should of ...\n",
      "305  What’s annoying is they’ll argue “it will enco...\n",
      "306  You’re talking about avocados but you really s...\n",
      "\n",
      "[307 rows x 1 columns]\n"
     ]
    }
   ],
   "source": [
    "data = youtube_scrape(\"https://www.youtube.com/watch?v=CThkd5Et_mQ\")\n",
    "\n",
    "bbc_news1 = pd.DataFrame(data, columns=['comment'])\n",
    "print(bbc_news1)\n",
    "bbc_news1.to_csv('C:/NLP-Midterm/Data/RawData/bbc_news1.csv')"
   ]
  },
  {
   "cell_type": "code",
   "execution_count": 7,
   "metadata": {},
   "outputs": [
    {
     "name": "stdout",
     "output_type": "stream",
     "text": [
      "Extracted 699 comments.\n",
      "                                               comment\n",
      "0    Skip navigation\\nSign in\\nCanada and Mexico hi...\n",
      "1                                                     \n",
      "2                                                     \n",
      "3                                                     \n",
      "4                                                     \n",
      "..                                                 ...\n",
      "694  It would be so ironic if Trump's tariff plan a...\n",
      "695  Trump Tariff Blues: https://www.youtube.com/wa...\n",
      "696  We The People don’t want anything from another...\n",
      "697    Trump for the win drill baby drill...bbc crying\n",
      "698  Do not modify this clip to say they both buckl...\n",
      "\n",
      "[699 rows x 1 columns]\n"
     ]
    }
   ],
   "source": [
    "data = youtube_scrape(\"https://www.youtube.com/watch?v=BYY32Fna-7M\")\n",
    "\n",
    "bbc_news2 = pd.DataFrame(data, columns=['comment'])\n",
    "print(bbc_news2)\n",
    "bbc_news2.to_csv('C:/NLP-Midterm/Data/RawData/bbc_news2.csv')"
   ]
  },
  {
   "cell_type": "code",
   "execution_count": 8,
   "metadata": {},
   "outputs": [
    {
     "name": "stdout",
     "output_type": "stream",
     "text": [
      "Extracted 112 comments.\n",
      "                                               comment\n",
      "0    Skip navigation\\nSign in\\nWhat will the fallou...\n",
      "1                                                     \n",
      "2                                                     \n",
      "3                                                     \n",
      "4                                                     \n",
      "..                                                 ...\n",
      "107                                                   \n",
      "108                                    Trump is great \n",
      "109                                 Dats my president \n",
      "110                                              Trump\n",
      "111                                        .\\nGrow up.\n",
      "\n",
      "[112 rows x 1 columns]\n"
     ]
    }
   ],
   "source": [
    "data = youtube_scrape(\"https://www.youtube.com/watch?v=w4q2CMcWjKk\")\n",
    "\n",
    "bbc_news3 = pd.DataFrame(data, columns=['comment'])\n",
    "print(bbc_news3)\n",
    "bbc_news3.to_csv('C:/NLP-Midterm/Data/RawData/bbc_news3.csv')"
   ]
  },
  {
   "cell_type": "code",
   "execution_count": 10,
   "metadata": {},
   "outputs": [
    {
     "name": "stdout",
     "output_type": "stream",
     "text": [
      "Extracted 412 comments.\n",
      "                                               comment\n",
      "0    Skip navigation\\nSign in\\nUp next in 8\\n6:22\\n...\n",
      "1                                                     \n",
      "2                                                     \n",
      "3                                                     \n",
      "4                                                     \n",
      "..                                                 ...\n",
      "407  This man is straight up single handed saving t...\n",
      "408  Here goes new cars up 25%, good job on that in...\n",
      "409  He got us in this neverending inflation game a...\n",
      "410  Avocado toast is the average millenial breakfa...\n",
      "411                                              Great\n",
      "\n",
      "[412 rows x 1 columns]\n"
     ]
    }
   ],
   "source": [
    "data = youtube_scrape(\"https://www.youtube.com/watch?v=hsEzMJctjgE\")\n",
    "\n",
    "forbes = pd.DataFrame(data, columns=['comment'])\n",
    "print(forbes)\n",
    "forbes.to_csv('C:/NLP-Midterm/Data/RawData/forbes.csv')"
   ]
  },
  {
   "cell_type": "code",
   "execution_count": 11,
   "metadata": {},
   "outputs": [
    {
     "name": "stdout",
     "output_type": "stream",
     "text": [
      "Extracted 456 comments.\n",
      "                                               comment\n",
      "0    Skip navigation\\nSign in\\nUp next in 8\\n9:51\\n...\n",
      "1                                                     \n",
      "2                                                     \n",
      "3                                                     \n",
      "4                                                     \n",
      "..                                                 ...\n",
      "451                                                 =)\n",
      "452                                           Hahahaha\n",
      "453                                           He wont!\n",
      "454  Liberals are gonna focus on the short term goa...\n",
      "455  You know it’s sad when America’s broke going a...\n",
      "\n",
      "[456 rows x 1 columns]\n"
     ]
    }
   ],
   "source": [
    "data = youtube_scrape(\"https://www.youtube.com/watch?v=LFLQFqdAl4U\")\n",
    "\n",
    "forbes1 = pd.DataFrame(data, columns=['comment'])\n",
    "print(forbes1)\n",
    "forbes1.to_csv('C:/NLP-Midterm/Data/RawData/forbes1.csv')"
   ]
  },
  {
   "cell_type": "code",
   "execution_count": 13,
   "metadata": {},
   "outputs": [
    {
     "name": "stdout",
     "output_type": "stream",
     "text": [
      "Extracted 47 comments.\n",
      "                                              comment\n",
      "0   Skip navigation\\nSign in\\nUp next in 8\\n12:34\\...\n",
      "1                                                    \n",
      "2                                                    \n",
      "3                                                    \n",
      "4                                                    \n",
      "5                                                    \n",
      "6                                                    \n",
      "7                   Japan is a true respectable ally.\n",
      "8   Damn, those Toyotas are gonna be expensive as ...\n",
      "9   \"Um, I'd never say that to his face, I'll do i...\n",
      "10  These mutual tariffs between countries are bas...\n",
      "11  i like to imagine the Japanese PM was doing li...\n",
      "12  Reciprocal negotiated tariffs are called fair ...\n",
      "13               No tariffs on anime and manga please\n",
      "14  We love Japan because they are respectfully ra...\n",
      "15                        Japan is a treasured ally! \n",
      "16  \"if everyone is charged tariffs then no one is...\n",
      "17  That gentleman just lost his seat to a Podcast...\n",
      "18  Tariffs are a tax on American businesses that ...\n",
      "19  Having spent time in Japan from the military i...\n",
      "20  Tariffs on both sides, so consumers will pay m...\n",
      "21  \"I've known him for a long time through reputa...\n",
      "22  The prime minister of Japan looks like a Yakuz...\n",
      "23  Japan and U.S. are ride or die partners.\\n\\nGr...\n",
      "24  Trump: we gonna put tariffs on Japan \\nJapan b...\n",
      "25              Japan and the USA are strong together\n",
      "26         im surprised he didnt try a Hiroshima joke\n",
      "27  We love the Japanese people. Most Americans wa...\n",
      "28  It seems that Japanese media are the only repo...\n",
      "29  The prime minister was not laughing and look l...\n",
      "30  “Head on the chopping block.” Goes a bit harde...\n",
      "31  So we’re just gonna raise prices globally caus...\n",
      "32  If You have reciprocal tariffs...what's the ga...\n",
      "33  Why would you try to antagonist your own presi...\n",
      "34  Homer Simpson as president.\\n\\n“ I thought a t...\n",
      "35  “We charge them, they charge us. Very fair. No...\n",
      "36  Please don’t because I’ve been getting into co...\n",
      "37  Has what happened to Abe ever been fully inves...\n",
      "38  One of the things that runs counterintuitively...\n",
      "39  Tariffs are not the only means of trade distor...\n",
      "40  No Tariffs on anything Japanese related please...\n",
      "41               Translation: Strong man pay tariffs.\n",
      "42                                             Huh???\n",
      "43  If tariff’s are reciprocal, why have them at all.\n",
      "44  As a Navy veteran who was stationed in Japan f...\n",
      "45    Hey look trump learned a new word, reciprocal .\n",
      "46  Does Trump think applying tariffs is the only ...\n"
     ]
    }
   ],
   "source": [
    "data = youtube_scrape(\"https://www.youtube.com/watch?v=k2ZcJncmrUI\")\n",
    "\n",
    "forbes2 = pd.DataFrame(data, columns=['comment'])\n",
    "print(forbes2)\n",
    "forbes2.to_csv('C:/NLP-Midterm/Data/RawData/forbes2.csv')"
   ]
  },
  {
   "cell_type": "code",
   "execution_count": 16,
   "metadata": {},
   "outputs": [
    {
     "name": "stdout",
     "output_type": "stream",
     "text": [
      "Extracted 83 comments.\n",
      "                                              comment\n",
      "0   Skip navigation\\nSign in\\nUp next in 8\\n29:37\\...\n",
      "1                                                    \n",
      "2                                                    \n",
      "3                                                    \n",
      "4                                                    \n",
      "..                                                ...\n",
      "78            Americans are getting big tax increases\n",
      "79  February 9th, Gulf of America Day !  February ...\n",
      "80  does Forbes even read the titles of videos the...\n",
      "81                       Rah, Rah,  President Trump ️\n",
      "82               The dumbest US president in history \n",
      "\n",
      "[83 rows x 1 columns]\n"
     ]
    }
   ],
   "source": [
    "data = youtube_scrape(\"https://www.youtube.com/watch?v=6iiUlN9t7IA\")\n",
    "\n",
    "forbes3 = pd.DataFrame(data, columns=['comment'])\n",
    "print(forbes3)\n",
    "forbes3.to_csv('C:/NLP-Midterm/Data/RawData/forbes3.csv')"
   ]
  },
  {
   "cell_type": "code",
   "execution_count": 17,
   "metadata": {},
   "outputs": [
    {
     "name": "stdout",
     "output_type": "stream",
     "text": [
      "Extracted 680 comments.\n",
      "                                               comment\n",
      "0    Skip navigation\\nSign in\\nCANADIANS ARE PERPLE...\n",
      "1                                                     \n",
      "2                                                     \n",
      "3                                                     \n",
      "4                                                     \n",
      "..                                                 ...\n",
      "675                                    Heheheeeeee!!!!\n",
      "676  Canada and Mexico aren't playing correctly.  I...\n",
      "677  You are welcome to become our 51st state  come...\n",
      "678   Trump Train Wrecking the US Economy.  Ha ha ha..\n",
      "679  Yes we gona lower. Food prices.meanwhile trump...\n",
      "\n",
      "[680 rows x 1 columns]\n"
     ]
    }
   ],
   "source": [
    "data = youtube_scrape(\"https://www.youtube.com/watch?v=sgMqL05yBqs\")\n",
    "\n",
    "fox1 = pd.DataFrame(data, columns=['comment'])\n",
    "print(fox1)\n",
    "fox1.to_csv('C:/NLP-Midterm/Data/RawData/fox1.csv')"
   ]
  },
  {
   "cell_type": "code",
   "execution_count": 18,
   "metadata": {},
   "outputs": [
    {
     "name": "stdout",
     "output_type": "stream",
     "text": [
      "Extracted 260 comments.\n",
      "                                               comment\n",
      "0    Skip navigation\\nSign in\\nTODAY WERE HILARIOUS...\n",
      "1                                                     \n",
      "2                          Claim Your 50% Off\\nBuy now\n",
      "3                          Claim Your 50% Off\\nBuy now\n",
      "4                                                     \n",
      "..                                                 ...\n",
      "255  I am at the beginning of my \"investment journe...\n",
      "256  Canadians need to be reminded that the Canada ...\n",
      "257        This tariff idiocy will be trumps downfall.\n",
      "258  HMMM! P Navarro!  Another former CNBC contribu...\n",
      "259  SUPER STAR  ELON MUSK     & SON\\n SUPER STAR  ...\n",
      "\n",
      "[260 rows x 1 columns]\n"
     ]
    }
   ],
   "source": [
    "data = youtube_scrape(\"https://www.youtube.com/watch?v=SLNj2wImkSw\")\n",
    "\n",
    "fox2 = pd.DataFrame(data, columns=['comment'])\n",
    "print(fox2)\n",
    "fox2.to_csv('C:/NLP-Midterm/Data/RawData/fox2.csv')"
   ]
  },
  {
   "cell_type": "code",
   "execution_count": null,
   "metadata": {},
   "outputs": [
    {
     "name": "stdout",
     "output_type": "stream",
     "text": [
      "Extracted 47 comments.\n",
      "                                              comment\n",
      "0   Skip navigation\\nSign in\\nAND EXCHANGE RATES, ...\n",
      "1                                                    \n",
      "2                                                    \n",
      "3                                                    \n",
      "4                                                    \n",
      "5                                                    \n",
      "6                                                    \n",
      "7                         He's off his Tariff Rocker.\n",
      "8            Reciprocal?  He started this tariff war!\n",
      "9   “The narcissist enjoys being fed attention, wh...\n",
      "10                         Reciprocal? He started it!\n",
      "11                                This is a DISASTER.\n",
      "12  Quietly, in Canada, US manufactured goods are ...\n",
      "13  The EU has ZERO tariffs on the USA.\\nBut we wi...\n",
      "14  Stop calling these reciprocal tariffs, they ar...\n",
      "15  This helps us how? Each country we have bullie...\n",
      "16                 The groceries are already so high.\n",
      "17               DEAR LORD, WHY HAVE YOU FORSAKEN US?\n",
      "18  These people don’t have to worry about the pri...\n",
      "19  You know, the problem is really not about havi...\n",
      "20  So, the prices might go up in the short term.....\n",
      "21  If the rest of the world imposes tariffs on th...\n",
      "22  You need to clarify that VAT is applied to all...\n",
      "23  Is there no one intelligent and brave enough t...\n",
      "24                       Trumpflation comin' at ya!!!\n",
      "25  Keep threaten tariff to other countries. Ameri...\n",
      "26  The markets seem to think this is some sort of...\n",
      "27         Trump was wrong. Im not tired of winning. \n",
      "28  EU VAT are the equivalent to the sales taxes w...\n",
      "29  There are 160 countries, then 159 should deal ...\n",
      "30  Trump will raise prices across the board,affec...\n",
      "31  Trump is pleading for no trade. Give him what ...\n",
      "32  >Keep the following in mind. These tariffs are...\n",
      "33  I hope Trump forces other countries to recipro...\n",
      "34              Nice! This will bring down inflation!\n",
      "35  My… Bloomberg is so excited about money and ri...\n",
      "36    THE PRICES ON EACH TARIFFS ITEM WILL BE GO UP ️\n",
      "37  Oh im sorry. Are we suppose to know what recip...\n",
      "38  The US Nimitz-class aircraft carrier USS Harry...\n",
      "39        He needs to check with his BOSS Elon first.\n",
      "40  People know what reciprocal means. And you got...\n",
      "41  What does Bloomberg know about life… so excite...\n",
      "42  Amrican poset all presnale so no one good hidd...\n",
      "43                   Daddy’s got this. USA USA USA 🇺🇸\n",
      "44  Jornaliest qulitiy\\nJornaliest profuser\\nJorna...\n",
      "45  America has the lowest trade/gdp ratio of any ...\n",
      "46  Here is the problem for Americans who do no re...\n"
     ]
    }
   ],
   "source": [
    "data = youtube_scrape(\"https://www.youtube.com/watch?v=1wZmM_av6VQ\")\n",
    "\n",
    "bloombergTV1 = pd.DataFrame(data, columns=['comment'])\n",
    "print(bloombergTV1)\n",
    "bloombergTV1.to_csv('C:/NLP-Midterm/Data/RawData/bloombergTV1.csv')"
   ]
  },
  {
   "cell_type": "code",
   "execution_count": 4,
   "metadata": {},
   "outputs": [
    {
     "name": "stdout",
     "output_type": "stream",
     "text": [
      "Extracted 271 comments.\n",
      "                                               comment\n",
      "0    Skip navigation\\nSign in\\nTrue Cost Of Advanta...\n",
      "1                                                     \n",
      "2                                                     \n",
      "3                                                     \n",
      "4                                                     \n",
      "..                                                 ...\n",
      "266                                     Fear mongering\n",
      "267  Bias Reporting … Support your own economy. Sta...\n",
      "268  So how would YOU suggest we tackle the deficit...\n",
      "269                 Majority of commenters are losers.\n",
      "270                                         MAGA baby!\n",
      "\n",
      "[271 rows x 1 columns]\n"
     ]
    }
   ],
   "source": [
    "data = youtube_scrape(\"https://www.youtube.com/watch?v=bUYR-r30nfQ&t=1s\")\n",
    "\n",
    "bloombergTV1 = pd.DataFrame(data, columns=['comment'])\n",
    "print(bloombergTV1)\n",
    "bloombergTV1.to_csv('C:/NLP-Midterm/Data/video_comments/bloomberg1.csv')"
   ]
  },
  {
   "cell_type": "code",
   "execution_count": 16,
   "metadata": {},
   "outputs": [
    {
     "name": "stdout",
     "output_type": "stream",
     "text": [
      "Extracted 667 comments.\n",
      "                                               comment\n",
      "0    Skip navigation\\nSign in\\nSomething went wrong...\n",
      "1                                                     \n",
      "2                                                     \n",
      "3                                                     \n",
      "4                                                     \n",
      "..                                                 ...\n",
      "662                                         MAGA SMAGA\n",
      "663  Who gets accused of day? Doing something on De...\n",
      "664                                                   \n",
      "665  He's right on most things. He's a fool with th...\n",
      "666  Most people can't afford these over priced new...\n",
      "\n",
      "[667 rows x 1 columns]\n"
     ]
    }
   ],
   "source": [
    "from pathlib import Path\n",
    "import os\n",
    "\n",
    "base_path = Path().resolve()\n",
    "target_path = base_path.parent / 'Data' / 'video_comments' / 'fox_news5.csv'\n",
    "\n",
    "data = youtube_scrape(\"https://www.youtube.com/watch?v=9U2y4s3uOkM\")\n",
    "fn5 = pd.DataFrame(data, columns=['comment'])\n",
    "\n",
    "fn5.to_csv(target_path, index=False)\n",
    "print(fn5)"
   ]
  },
  {
   "cell_type": "code",
   "execution_count": null,
   "metadata": {},
   "outputs": [
    {
     "name": "stdout",
     "output_type": "stream",
     "text": [
      "Extracted 137 comments.\n",
      "                                               comment\n",
      "0    Skip navigation\\nSign in\\nSomething went wrong...\n",
      "1                                                     \n",
      "2                                                     \n",
      "3                                                     \n",
      "4                                                     \n",
      "..                                                 ...\n",
      "662                                         MAGA SMAGA\n",
      "663  Who gets accused of day? Doing something on De...\n",
      "664                                                   \n",
      "665  He's right on most things. He's a fool with th...\n",
      "666  Most people can't afford these over priced new...\n",
      "\n",
      "[667 rows x 1 columns]\n"
     ]
    }
   ],
   "source": [
    "base_path = Path().resolve()\n",
    "target_path = base_path.parent / 'Data' / 'video_comments' / 'ny_post1.csv'\n",
    "\n",
    "data = youtube_scrape(\"https://www.youtube.com/watch?v=8fY6VIS_Y0U\")\n",
    "nyp1 = pd.DataFrame(data, columns=['comment'])\n",
    "\n",
    "nyp1.to_csv(target_path, index=False)\n",
    "print(nyp1)"
   ]
  },
  {
   "cell_type": "code",
   "execution_count": 20,
   "metadata": {},
   "outputs": [
    {
     "name": "stdout",
     "output_type": "stream",
     "text": [
      "Extracted 51 comments.\n",
      "                                              comment\n",
      "0   Skip navigation\\nSign in\\n0:00 / 0:41\\nTrump a...\n",
      "1                                                    \n",
      "2                                                    \n",
      "3                                                    \n",
      "4                                                    \n",
      "5                                                    \n",
      "6                                                    \n",
      "7                                              Great!\n",
      "8   Don’t tell me we’re going to have to bail out ...\n",
      "9   hes manipulating the stock market. watch he wi...\n",
      "10  Mexico is gonna diversified  the products that...\n",
      "11                        Dow crashed huge after this\n",
      "12  I support you me liege KING TRUMP I know that ...\n",
      "13  Can't wait to hear what his supporters say whe...\n",
      "14                  What happened to your egg prices \n",
      "15  The Canadian dollar dropping like a rock, thei...\n",
      "16                I guess were due a great depression\n",
      "17  More fentanyl comes from them to canada than t...\n",
      "18  Im sorry if you're doing drugs thats on you......\n",
      "19                                           Mob tax.\n",
      "20                                      I love Trump \n",
      "21  Trump will never back down on tariffs. He prom...\n",
      "22  Here comes higher prices and a crashing stock ...\n",
      "23  Stop the fentanyl, stop the tariffs.\\nVery con...\n",
      "24      Maga your beer and chicken wings are going up\n",
      "25  Now it will be easier to tell what products ar...\n",
      "26                    Prices will increase. Get ready\n",
      "27  Take it easy Mr President Trump, the cartels h...\n",
      "28                                   Beauties mate!!!\n",
      "29  Just another in a long line of reckless busine...\n",
      "30         Stable genius only has his hair plugs left\n",
      "31                                            Impeach\n",
      "32                               THIS IS A SICK MALE.\n",
      "33  Canadians on here think it won't affect them. ...\n",
      "34                                                LFG\n",
      "35  What do Americans need from canada or mexico. ...\n",
      "36                                              GOAT!\n",
      "37  Liberals are becoming economic experts after 4...\n",
      "38    You people seriously believe everything he says\n",
      "39  1/3 of our produce comes from Mexico.... I wor...\n",
      "40                    Great depression #2 here we go.\n",
      "41             Trump is really unbelievable, so smart\n",
      "42  The world is golf-clapping at you,America. Enj...\n",
      "43                     Stock market crash coming soon\n",
      "44  i better not hear any whining from MAGA when e...\n",
      "45  Trump should abdicate out of fear of being dep...\n",
      "46           Stock market collapsing, nice job trump!\n",
      "47  hes tryna add the Country to the things hes ba...\n",
      "48                                                   \n",
      "49  Tequila time  4 Years, 🇺🇸🇺🇸🇺🇸️. Yo Quiero Taco...\n",
      "50                           Make America poor again \n"
     ]
    }
   ],
   "source": [
    "base_path = Path().resolve()\n",
    "target_path = base_path.parent / 'Data' / 'video_comments' / 'ny_post2.csv'\n",
    "\n",
    "data = youtube_scrape(\"https://www.youtube.com/watch?v=R702zqa9w7A\")\n",
    "nyp2 = pd.DataFrame(data, columns=['comment'])\n",
    "\n",
    "nyp2.to_csv(target_path, index=False)\n",
    "print(nyp2)"
   ]
  },
  {
   "cell_type": "code",
   "execution_count": 19,
   "metadata": {},
   "outputs": [
    {
     "name": "stdout",
     "output_type": "stream",
     "text": [
      "Extracted 724 comments.\n",
      "                                               comment\n",
      "0    Skip navigation\\nSign in\\n0:00 / 1:07\\nCanada ...\n",
      "1                                                     \n",
      "2                                                     \n",
      "3                                                     \n",
      "4                                                     \n",
      "..                                                 ...\n",
      "719                LOL… Canada about to FAFO big time!\n",
      "720  Oooo I’m so scared  Go get em President Trump!...\n",
      "721  Hey Trump supporters.\\nI've heard Trump say to...\n",
      "722  THIS IS SO PETTY! PLEASE PEOPLE WE NEED TO HEL...\n",
      "723                    Looks like American civil war 2\n",
      "\n",
      "[724 rows x 1 columns]\n"
     ]
    }
   ],
   "source": [
    "base_path = Path().resolve()\n",
    "target_path = base_path.parent / 'Data' / 'video_comments' / 'ny_post3.csv'\n",
    "\n",
    "data = youtube_scrape(\"https://www.youtube.com/watch?v=948oGWKr6as\")\n",
    "nyp3 = pd.DataFrame(data, columns=['comment'])\n",
    "\n",
    "nyp3.to_csv(target_path, index=False)\n",
    "print(nyp3)"
   ]
  },
  {
   "cell_type": "code",
   "execution_count": null,
   "metadata": {},
   "outputs": [
    {
     "name": "stdout",
     "output_type": "stream",
     "text": [
      "Extracted 130 comments.\n",
      "                                               comment\n",
      "0    Skip navigation\\nSign in\\nSomething went wrong...\n",
      "1                                                     \n",
      "2                                                     \n",
      "3                                                     \n",
      "4                                                     \n",
      "..                                                 ...\n",
      "125  love trump but im annoyed hes placing these ta...\n",
      "126   Yes!!!, Mexico, Canada, China no more free ride.\n",
      "127  Let´s see what the ineffective and coward mexi...\n",
      "128  Oh come on people in this comment section. The...\n",
      "129  It is not surprising that the video is looped,...\n",
      "\n",
      "[130 rows x 1 columns]\n"
     ]
    },
    {
     "ename": "",
     "evalue": "",
     "output_type": "error",
     "traceback": [
      "\u001b[1;31mThe Kernel crashed while executing code in the current cell or a previous cell. \n",
      "\u001b[1;31mPlease review the code in the cell(s) to identify a possible cause of the failure. \n",
      "\u001b[1;31mClick <a href='https://aka.ms/vscodeJupyterKernelCrash'>here</a> for more info. \n",
      "\u001b[1;31mView Jupyter <a href='command:jupyter.viewOutput'>log</a> for further details."
     ]
    }
   ],
   "source": [
    "target_path = base_path.parent / 'Data' / 'video_comments' / 'ny_post4.csv'\n",
    "\n",
    "data = youtube_scrape(\"https://www.youtube.com/watch?v=wTlIhuu7fVU\")\n",
    "nyp4 = pd.DataFrame(data, columns=['comment'])\n",
    "\n",
    "nyp4.to_csv(target_path, index=False)\n",
    "print(nyp4)"
   ]
  },
  {
   "cell_type": "code",
   "execution_count": null,
   "metadata": {},
   "outputs": [],
   "source": []
  }
 ],
 "metadata": {
  "kernelspec": {
   "display_name": "predAn",
   "language": "python",
   "name": "python3"
  },
  "language_info": {
   "codemirror_mode": {
    "name": "ipython",
    "version": 3
   },
   "file_extension": ".py",
   "mimetype": "text/x-python",
   "name": "python",
   "nbconvert_exporter": "python",
   "pygments_lexer": "ipython3",
   "version": "3.12.3"
  }
 },
 "nbformat": 4,
 "nbformat_minor": 2
}
