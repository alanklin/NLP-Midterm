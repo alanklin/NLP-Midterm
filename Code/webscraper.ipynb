{
 "cells": [
  {
   "cell_type": "code",
   "execution_count": 1,
   "metadata": {},
   "outputs": [],
   "source": [
    "\n",
    "import time\n",
    "from selenium import webdriver\n",
    "from selenium.webdriver.chrome.service import Service\n",
    "from selenium.webdriver.common.by import By\n",
    "from selenium.webdriver.common.keys import Keys\n",
    "from selenium.webdriver.support.ui import WebDriverWait\n",
    "from selenium.webdriver.support import expected_conditions as EC\n",
    "\n",
    "import pandas as pd\n"
   ]
  },
  {
   "cell_type": "code",
   "execution_count": 2,
   "metadata": {},
   "outputs": [],
   "source": [
    "# Path to ChromeDriver\n",
    "chrome_driver_path = r'C:\\Program Files\\chromedriver.exe'"
   ]
  },
  {
   "cell_type": "code",
   "execution_count": 3,
   "metadata": {},
   "outputs": [],
   "source": [
    "def youtube_scrape(url):\n",
    "\n",
    "    service = Service(chrome_driver_path)\n",
    "    driver = webdriver.Chrome(service=service)\n",
    "\n",
    "    try:\n",
    "        data = []\n",
    "        youtube_video_url = url\n",
    "\n",
    "        wait = WebDriverWait(driver, 15)\n",
    "        driver.get(youtube_video_url)\n",
    "\n",
    "        # Scroll down to load comments\n",
    "        for _ in range(200):\n",
    "            wait.until(EC.visibility_of_element_located((By.TAG_NAME, \"body\"))).send_keys(Keys.END)\n",
    "            time.sleep(2)  # Reduce sleep time for efficiency\n",
    "\n",
    "        # Extract comments\n",
    "        for comment in wait.until(EC.presence_of_all_elements_located((By.CSS_SELECTOR, \"#content\"))):\n",
    "            data.append(comment.text)\n",
    "\n",
    "        print(f\"Extracted {len(data)} comments.\")\n",
    "\n",
    "    finally:\n",
    "        driver.quit()  # Ensure driver quits properly\n",
    "        return data"
   ]
  },
  {
   "cell_type": "code",
   "execution_count": 4,
   "metadata": {},
   "outputs": [
    {
     "name": "stdout",
     "output_type": "stream",
     "text": [
      "Extracted 92 comments.\n",
      "                                              comment\n",
      "0   Skip navigation\\nSign in\\n0:00 / 5:16\\nHow New...\n",
      "1                                                    \n",
      "2                                                    \n",
      "3                                                    \n",
      "4                                                    \n",
      "..                                                ...\n",
      "87  Couldn't he have just requested a summit to di...\n",
      "88            Its been 3 days.  Propaganda media here\n",
      "89  For God's sake... It is as simple as this: the...\n",
      "90  The entire Wall Street Journal editorial board...\n",
      "91  Im not an expert on the situation, but i belie...\n",
      "\n",
      "[92 rows x 1 columns]\n"
     ]
    }
   ],
   "source": [
    "data = youtube_scrape(\"https://www.youtube.com/watch?v=bl6Wk_Qr9ds\")\n",
    "wsj = pd.DataFrame(data, columns=['comment'])\n",
    "wsj.to_csv(\"C:/NLP-Midterm/Data/RawData/wjs.csv\", index = False)\n",
    "print(wsj)"
   ]
  },
  {
   "cell_type": "code",
   "execution_count": 4,
   "metadata": {},
   "outputs": [
    {
     "name": "stdout",
     "output_type": "stream",
     "text": [
      "Extracted 589 comments.\n",
      "                                               comment\n",
      "0    Skip navigation\\nSign in\\none of the biggest t...\n",
      "1                                                     \n",
      "2                                                     \n",
      "3                                                     \n",
      "4                                                     \n",
      "..                                                 ...\n",
      "584                        I like Donald Trump welcome\n",
      "585             In the end....what happened to him....\n",
      "586  XAI315K is definitely going to flip bitcoin ma...\n",
      "587  Being that the us is in major debt, we have to...\n",
      "588  He didnt abandon it.  Hahahaha\\nIt was the ric...\n",
      "\n",
      "[589 rows x 1 columns]\n"
     ]
    }
   ],
   "source": [
    "data = youtube_scrape(\"https://www.youtube.com/watch?v=svktRVVNJO8\")\n",
    "wsj1 = pd.DataFrame(data, columns=['comment'])\n",
    "wsj1.to_csv(\"C:/NLP-Midterm/Data/RawData/wsj1.csv\", index = False)\n",
    "print(wsj1)"
   ]
  },
  {
   "cell_type": "code",
   "execution_count": 5,
   "metadata": {},
   "outputs": [
    {
     "name": "stdout",
     "output_type": "stream",
     "text": [
      "Extracted 662 comments.\n",
      "                                               comment\n",
      "0    Skip navigation\\nSign in\\nBut that was just an...\n",
      "1                                                     \n",
      "2                                                     \n",
      "3                                                     \n",
      "4                                                     \n",
      "..                                                 ...\n",
      "657                                             Maggot\n",
      "658                                      Rubbish video\n",
      "659                                                 🇨🇳\n",
      "660                                      Hehe memecoin\n",
      "661               ya US made… so double the price… yay\n",
      "\n",
      "[662 rows x 1 columns]\n"
     ]
    }
   ],
   "source": [
    "data = youtube_scrape(\"https://www.youtube.com/watch?v=C2N6bz-KBX0\")\n",
    "cnn = pd.DataFrame(data, columns=['comment'])\n",
    "cnn.to_csv(\"C:/NLP-Midterm/Data/RawData/cnn.csv\", index = False)\n",
    "print(cnn)"
   ]
  },
  {
   "cell_type": "code",
   "execution_count": 6,
   "metadata": {},
   "outputs": [
    {
     "name": "stdout",
     "output_type": "stream",
     "text": [
      "Extracted 887 comments.\n",
      "                                               comment\n",
      "0    Skip navigation\\nSign in\\nTrump’s former trade...\n",
      "1                                                     \n",
      "2                                                     \n",
      "3                                                     \n",
      "4                                                     \n",
      "..                                                 ...\n",
      "882                                                   \n",
      "883                                             🇨🇳🇨🇳🇨🇳\n",
      "884                                                   \n",
      "885  Simple! 🇺🇸 is not competitive, and resources m...\n",
      "886                                     Get em Donald \n",
      "\n",
      "[887 rows x 1 columns]\n"
     ]
    }
   ],
   "source": [
    "data = youtube_scrape(\"https://www.youtube.com/watch?v=KwUG2bOHqFA\")\n",
    "sixtyminutes = pd.DataFrame(data, columns=['comment'])\n",
    "sixtyminutes.to_csv(\"C:/NLP-Midterm/Data/RawData/sixtyminutes.csv\", index = False)\n",
    "print(sixtyminutes)"
   ]
  },
  {
   "cell_type": "code",
   "execution_count": 7,
   "metadata": {},
   "outputs": [
    {
     "name": "stdout",
     "output_type": "stream",
     "text": [
      "Extracted 141 comments.\n",
      "                                               comment\n",
      "0    Skip navigation\\nSign in\\nAnd one thing that C...\n",
      "1                                                     \n",
      "2                                           Learn more\n",
      "3                                           Learn more\n",
      "4                                                     \n",
      "..                                                 ...\n",
      "136  To the relief of the planet, it seems that the...\n",
      "137  I'm Chinese I beg trump don't do that we need ...\n",
      "138               CCP can't do anything but criticize.\n",
      "139  The economy can actually get better if only th...\n",
      "140                            Why is Tesla left out? \n",
      "\n",
      "[141 rows x 1 columns]\n"
     ]
    }
   ],
   "source": [
    "data = youtube_scrape(\"https://www.youtube.com/watch?v=00LSTJkBGZo\")\n",
    "bloombergTV = pd.DataFrame(data, columns=['comment'])\n",
    "bloombergTV.to_csv(\"C:/NLP-Midterm/Data/RawData/bloombergTV.csv\", index = False)\n",
    "print(bloombergTV)"
   ]
  },
  {
   "cell_type": "code",
   "execution_count": 4,
   "metadata": {},
   "outputs": [
    {
     "name": "stdout",
     "output_type": "stream",
     "text": [
      "Extracted 348 comments.\n",
      "                                               comment\n",
      "0    Skip navigation\\nSign in\\nFree Training\\ngo.pu...\n",
      "1                                                     \n",
      "2                                                     \n",
      "3                                                     \n",
      "4                                                     \n",
      "..                                                 ...\n",
      "343  Don’t look at what happened in Ireland yesterd...\n",
      "344  Canada's cooked. Just make us the 51st state. ...\n",
      "345  Trump's tariffs on imports are aimed at bringi...\n",
      "346                                 Trump Trump Trump \n",
      "347                                               Amen\n",
      "\n",
      "[348 rows x 1 columns]\n"
     ]
    }
   ],
   "source": [
    "data = youtube_scrape(\"https://www.youtube.com/watch?v=0fBpS_4gFKk\")\n",
    "skynews = pd.DataFrame(data, columns=['comment'])\n",
    "skynews.to_csv(\"C:/NLP-Midterm/Data/RawData/skynews.csv\")\n",
    "print(skynews)"
   ]
  },
  {
   "cell_type": "code",
   "execution_count": null,
   "metadata": {},
   "outputs": [
    {
     "name": "stdout",
     "output_type": "stream",
     "text": [
      "Extracted 55 comments.\n"
     ]
    }
   ],
   "source": [
    "data = youtube_scrape(\"https://www.youtube.com/watch?v=nEIhhgI1_og\")\n",
    "wusa9 = pd.DataFrame(data, columns=['comment'])\n",
    "wusa9.to_csv('C:/NLP-Midterm/Data/RawData/wusa9.csv', index = False)\n",
    "print(wusa9)"
   ]
  },
  {
   "cell_type": "code",
   "execution_count": null,
   "metadata": {},
   "outputs": [
    {
     "name": "stdout",
     "output_type": "stream",
     "text": [
      "Extracted 347 comments.\n"
     ]
    }
   ],
   "source": [
    "\n",
    "data = youtube_scrape(\"https://www.youtube.com/watch?v=HJKe_m9CL-0\")\n",
    "\n",
    "\n",
    "dwnews = pd.DataFrame(data, columns=['comment'])\n",
    "\n",
    "dwnews.to_csv('C:/NLP-Midterm/Data/RawData/DW_News_1.csv')\n",
    "print(dwnews)"
   ]
  },
  {
   "cell_type": "code",
   "execution_count": 5,
   "metadata": {},
   "outputs": [
    {
     "name": "stdout",
     "output_type": "stream",
     "text": [
      "Extracted 879 comments.\n",
      "                                               comment\n",
      "0    Skip navigation\\nSign in\\nTrusted, 5-Star Dog ...\n",
      "1                                                     \n",
      "2                                                     \n",
      "3                                                     \n",
      "4                                                     \n",
      "..                                                 ...\n",
      "874                                                   \n",
      "875                                                 no\n",
      "876  What a cheap researcher are you? So many mista...\n",
      "877                                the music is stupid\n",
      "878                                   Err …no actually\n",
      "\n",
      "[879 rows x 1 columns]\n"
     ]
    }
   ],
   "source": [
    "data = youtube_scrape(\"https://www.youtube.com/watch?v=K0V8kZyl1T0&t=1s\")\n",
    "\n",
    "Economics_explained = pd.DataFrame(data, columns=['comment'])\n",
    "print(Economics_explained)\n",
    "Economics_explained.to_csv('C:/NLP-Midterm/Data/RawData/Economics_Explained_comments.csv')"
   ]
  },
  {
   "cell_type": "code",
   "execution_count": 6,
   "metadata": {},
   "outputs": [
    {
     "name": "stdout",
     "output_type": "stream",
     "text": [
      "Extracted 307 comments.\n",
      "                                               comment\n",
      "0    Skip navigation\\nSign in\\nSomething went wrong...\n",
      "1                                                     \n",
      "2                                                     \n",
      "3                                                     \n",
      "4                                                     \n",
      "..                                                 ...\n",
      "302                             Denmark next! Yeah!!!!\n",
      "303                                       I love this!\n",
      "304  In the words of a wise person. \"You should of ...\n",
      "305  What’s annoying is they’ll argue “it will enco...\n",
      "306  You’re talking about avocados but you really s...\n",
      "\n",
      "[307 rows x 1 columns]\n"
     ]
    }
   ],
   "source": [
    "data = youtube_scrape(\"https://www.youtube.com/watch?v=CThkd5Et_mQ\")\n",
    "\n",
    "bbc_news1 = pd.DataFrame(data, columns=['comment'])\n",
    "print(bbc_news1)\n",
    "bbc_news1.to_csv('C:/NLP-Midterm/Data/RawData/bbc_news1.csv')"
   ]
  },
  {
   "cell_type": "code",
   "execution_count": null,
   "metadata": {},
   "outputs": [],
   "source": [
    "data = youtube_scrape(\"https://www.youtube.com/watch?v=BYY32Fna-7M\")\n",
    "\n",
    "bbc_news2 = pd.DataFrame(data, columns=['comment'])\n",
    "print(bbc_news2)\n",
    "bbc_news2.to_csv('C:/NLP-Midterm/Data/RawData/bbc_news2.csv')"
   ]
  },
  {
   "cell_type": "code",
   "execution_count": null,
   "metadata": {},
   "outputs": [],
   "source": [
    "data = youtube_scrape(\"https://www.youtube.com/watch?v=w4q2CMcWjKk\")\n",
    "\n",
    "bbc_news3 = pd.DataFrame(data, columns=['comment'])\n",
    "print(bbc_news3)\n",
    "bbc_news3.to_csv('C:/NLP-Midterm/Data/RawData/bbc_news3.csv')"
   ]
  },
  {
   "cell_type": "code",
   "execution_count": null,
   "metadata": {},
   "outputs": [],
   "source": [
    "data = youtube_scrape(\"https://www.youtube.com/watch?v=hsEzMJctjgE\")\n",
    "\n",
    "forbes = pd.DataFrame(data, columns=['comment'])\n",
    "print(forbes)\n",
    "forbes.to_csv('C:/NLP-Midterm/Data/RawData/forbes.csv')"
   ]
  },
  {
   "cell_type": "code",
   "execution_count": null,
   "metadata": {},
   "outputs": [],
   "source": [
    "data = youtube_scrape(\"https://www.youtube.com/watch?v=LFLQFqdAl4U\")\n",
    "\n",
    "forbes1 = pd.DataFrame(data, columns=['comment'])\n",
    "print(forbes1)\n",
    "forbes1.to_csv('C:/NLP-Midterm/Data/RawData/forbes1.csv')"
   ]
  },
  {
   "cell_type": "code",
   "execution_count": null,
   "metadata": {},
   "outputs": [],
   "source": [
    "data = youtube_scrape(\"https://www.youtube.com/watch?v=k2ZcJncmrUI\")\n",
    "\n",
    "forbes2 = pd.DataFrame(data, columns=['comment'])\n",
    "print(forbes2)\n",
    "forbes2.to_csv('C:/NLP-Midterm/Data/RawData/forbes2.csv')"
   ]
  },
  {
   "cell_type": "code",
   "execution_count": null,
   "metadata": {},
   "outputs": [],
   "source": [
    "data = youtube_scrape(\"https://www.youtube.com/watch?v=6iiUlN9t7IA\")\n",
    "\n",
    "forbes3 = pd.DataFrame(data, columns=['comment'])\n",
    "print(forbes3)\n",
    "forbes3.to_csv('C:/NLP-Midterm/Data/RawData/forbes3.csv')"
   ]
  }
 ],
 "metadata": {
  "kernelspec": {
   "display_name": "ML-AI-Courses",
   "language": "python",
   "name": "python3"
  },
  "language_info": {
   "codemirror_mode": {
    "name": "ipython",
    "version": 3
   },
   "file_extension": ".py",
   "mimetype": "text/x-python",
   "name": "python",
   "nbconvert_exporter": "python",
   "pygments_lexer": "ipython3",
   "version": "3.12.7"
  }
 },
 "nbformat": 4,
 "nbformat_minor": 2
}
